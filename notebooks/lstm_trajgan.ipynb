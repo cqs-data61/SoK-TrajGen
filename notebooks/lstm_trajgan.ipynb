{
 "cells": [
  {
   "cell_type": "markdown",
   "source": [
    "# LSTM-TrajGAN [1]\n",
    "\n",
    "The original implementation can be found at: https://github.com/GeoDS/LSTM-TrajGAN/\n",
    "\n",
    "[1] Rao, J., Gao, S.*, Kang, Y. and Huang, Q. (2020). LSTM-TrajGAN: A Deep Learning Approach to Trajectory Privacy Protection. In the Proceedings of the 11th International Conference on Geographic Information Science (GIScience 2021), 12:1--12:17."
   ],
   "metadata": {
    "collapsed": false
   },
   "id": "ee956cbbf04f2caa"
  },
  {
   "cell_type": "code",
   "execution_count": 1,
   "outputs": [],
   "source": [
    "%load_ext autoreload\n",
    "%autoreload 2\n",
    "import os\n",
    "\n",
    "    \n",
    "RunningInCOLAB = 'google.colab' in str(get_ipython())\n",
    "if RunningInCOLAB:\n",
    "    # Move to default colab folder\n",
    "    %cd /content\n",
    "    # Check if repository is already cloned\n",
    "    if not os.path.isdir(\"stg\"):\n",
    "        # Clone repository\n",
    "        !git clone --recursive https://github.com/erik-buchholz/SoK-TrajGen.git stg\n",
    "    # Change to repository directory\n",
    "    %cd stg\n",
    "    # Only install requirements not already installed by Colab\n",
    "    !pip install opacus haversine utm\n",
    "    # SLOW: Only execute the following line if you encounter an error regarding a package not being installed\n",
    "    # !pip install -r requirements.txt\n",
    "else:\n",
    "    import sys\n",
    "    sys.path.append('..')  # Required for finding the `stg` module"
   ],
   "metadata": {
    "collapsed": false,
    "ExecuteTime": {
     "end_time": "2024-02-05T01:20:33.558448Z",
     "start_time": "2024-02-05T01:20:33.440405Z"
    }
   },
   "id": "f363559737bdd0ac"
  },
  {
   "cell_type": "code",
   "execution_count": 2,
   "outputs": [
    {
     "data": {
      "text/plain": "<RootLogger root (INFO)>"
     },
     "execution_count": 2,
     "metadata": {},
     "output_type": "execute_result"
    }
   ],
   "source": [
    "import os\n",
    "import logging\n",
    "import random\n",
    "\n",
    "import pandas as pd\n",
    "import numpy as np\n",
    "from timeit import default_timer as timer\n",
    "from matplotlib import pyplot as plt\n",
    "from torch.utils.data import DataLoader\n",
    "from stg.datasets.padding import pad_feature_first\n",
    "\n",
    "from stg import config\n",
    "from stg.utils.helpers import get_ref_point, get_scaling_factor\n",
    "from stg.utils.logger import configure_root_loger\n",
    "from stg.utils import helpers, visualise\n",
    "from stg.datasets.base_dataset import DatasetModes\n",
    "# Load PyTorch Dataset\n",
    "from stg.datasets.fs_nyc import FSNYCDataset, PATH_ALL\n",
    "from stg.metrics import compute_list_differences as count_diff_in_list\n",
    "\n",
    "\n",
    "configure_root_loger(logging_level=logging.INFO)"
   ],
   "metadata": {
    "collapsed": false,
    "ExecuteTime": {
     "end_time": "2024-02-05T01:20:38.128085Z",
     "start_time": "2024-02-05T01:20:33.516727Z"
    }
   },
   "id": "e0981e7225c7e88f"
  },
  {
   "cell_type": "code",
   "execution_count": 3,
   "outputs": [],
   "source": [
    "# Define GPU to use\n",
    "GPU = 0\n",
    "\n",
    "# Allocates a lot of GPU memory. Should only be used to validate the model.\n",
    "USE_TF = False "
   ],
   "metadata": {
    "collapsed": false,
    "ExecuteTime": {
     "end_time": "2024-02-05T00:24:43.567329Z",
     "start_time": "2024-02-05T00:24:43.539162Z"
    }
   },
   "id": "5b0db6d0b769ee5c"
  },
  {
   "cell_type": "markdown",
   "source": [
    "## Constants\n",
    "\n",
    "In the following we will use mostly the same (hyper)parameters as the original implementation.\n",
    "According to the authors [1] the original evaluation was performed with the following parameters:\n",
    "\n",
    "> We train the LSTM-TrajGAN model on the training set for 2,000 epochs with several default training hyperparameters (e.g., we use an adam optimizer with a learning rate of 0.001 and set the batch size to 256).\n",
    "\n",
    "- Dataset: Foursquare NYC\n",
    "- ~Epochs: 2000~\n",
    "    - Note: The authors define an epoch as one batch instead of one pass over the entire dataset. The Foursquare NYC dataset contains 2052 trajectories. With a batch size of 256, one epoch is equivalent to 8 batches. Therefore, we will train for 2000 / 8 = **250 epochs**.\n",
    "- Batch Size: 256\n",
    "- Learning Rate: 0.001\n",
    "- Beta: 0.5\n",
    "- Latent Dimension: 100  (Note, this refers to the size of the input noise and not the latent dimension of the LSTM)\n",
    "- Max. Length: 144"
   ],
   "metadata": {
    "collapsed": false
   },
   "id": "95260019ffec36df"
  },
  {
   "cell_type": "code",
   "execution_count": 4,
   "outputs": [],
   "source": [
    "# Constants according to original implementation\n",
    "max_len = 144\n",
    "latent_dim = 100\n",
    "batch_size = 256\n",
    "epochs = 250\n",
    "lr = 0.001\n",
    "beta = 0.5\n",
    "name = 'LSTM-TrajGAN'"
   ],
   "metadata": {
    "collapsed": false,
    "ExecuteTime": {
     "end_time": "2024-02-05T00:24:43.605722Z",
     "start_time": "2024-02-05T00:24:43.571374Z"
    }
   },
   "id": "231f03187c78c3c8"
  },
  {
   "cell_type": "markdown",
   "source": [
    "## TensorFlow Model\n",
    "\n",
    "The original implementation of LSTM-TrajGAN by the authors can be found at: [https://github.com/GeoDS/LSTM-TrajGAN/](https://github.com/GeoDS/LSTM-TrajGAN/).\n",
    "This implementation is based on TensorFlow 1.13.1. \n",
    "In order to make the implementation work in this project, the code was adapted to TensorFlow 2.\n",
    "The corresponding code can be found in the files `stg/ml_tf/lstm_trajgan.py`, and `stg/ml_tf/loss.py`.\n",
    "We will not be using this TensorFlow model for our evaluations as we encountered performance issues running TensorFlow on our server.\n",
    "Therefore, we re-implemented LSTM-TrajGAN in PyTorch.\n",
    "However, we aim to show that the TensorFlow implementation is equivalent to the PyTorch implementation in the following."
   ],
   "metadata": {
    "collapsed": false
   },
   "id": "78dd8c83e44034d6"
  },
  {
   "cell_type": "code",
   "execution_count": 5,
   "outputs": [],
   "source": [
    "if USE_TF:\n",
    "    # Define GPU to use\n",
    "    os.environ[\"CUDA_VISIBLE_DEVICES\"] = f\"{GPU}\"\n",
    "    \n",
    "    from stg.ml_tf.lstm_trajgan import LSTM_TrajGAN, to_trajGAN_input\n",
    "    \n",
    "    # Load training data\n",
    "    path = config.BASE_DIR + 'data/fs_nyc/train_latlon.csv'\n",
    "    ts: pd.DataFrame = pd.read_csv(path, dtype={'tid': str, 'label': 'int32'})\n",
    "    \n",
    "    # Determine Reference point\n",
    "    ref = get_ref_point(ts[['lat', 'lon']])\n",
    "    sf = get_scaling_factor(ts[['lat', 'lon']], ref)\n",
    "    \n",
    "    trainX = to_trajGAN_input(ts, ref, 10)\n",
    "    print(f\"Reference Point:\\t{ref}\")\n",
    "    print(f\"Scale Factor:\\t{sf}\")"
   ],
   "metadata": {
    "collapsed": false,
    "ExecuteTime": {
     "end_time": "2024-02-05T00:24:43.648144Z",
     "start_time": "2024-02-05T00:24:43.609466Z"
    }
   },
   "id": "9cbc81070180b666"
  },
  {
   "cell_type": "code",
   "execution_count": 6,
   "outputs": [],
   "source": [
    "if USE_TF:\n",
    "    # Create model\n",
    "    # noinspection PyUnboundLocalVariable\n",
    "    tf_gan = LSTM_TrajGAN(\n",
    "        reference_point=ref,\n",
    "        scale_factor=sf,\n",
    "        max_length=max_len,\n",
    "        latent_dim=latent_dim,\n",
    "        model_name=name,\n",
    "        learning_rate=lr,\n",
    "        beta=beta,\n",
    "    )\n",
    "else:\n",
    "    tf_gan = None"
   ],
   "metadata": {
    "collapsed": false,
    "ExecuteTime": {
     "end_time": "2024-02-05T00:24:43.694688Z",
     "start_time": "2024-02-05T00:24:43.651367Z"
    }
   },
   "id": "3999c5d46ad729f"
  },
  {
   "cell_type": "code",
   "execution_count": 7,
   "outputs": [],
   "source": [
    "# Training does not work in Notebook, use CMD instead\n",
    "# \n",
    "# tf_gan.train(trainX,\n",
    "#           epochs=epochs,\n",
    "#           save_freq=10,\n",
    "#           batch_size=batch_size,\n",
    "#           print_training=True\n",
    "#           )"
   ],
   "metadata": {
    "collapsed": false,
    "ExecuteTime": {
     "end_time": "2024-02-05T00:24:43.738886Z",
     "start_time": "2024-02-05T00:24:43.694638Z"
    }
   },
   "id": "f424dd8720d4d0a8"
  },
  {
   "cell_type": "code",
   "execution_count": 8,
   "outputs": [],
   "source": [
    "if USE_TF:\n",
    "    # Print model summary\n",
    "    print(\"#\" * 80)\n",
    "    print(\"Generator:\")\n",
    "    print(\"#\" * 80)\n",
    "    print(tf_gan.generator.summary())\n",
    "    print(\"#\" * 80)\n",
    "    print(tf_gan.discriminator.summary())\n",
    "    print(\"#\" * 80)\n",
    "    print(\"Combined:\")\n",
    "    print(tf_gan.combined.summary())"
   ],
   "metadata": {
    "collapsed": false,
    "ExecuteTime": {
     "end_time": "2024-02-05T00:24:43.783119Z",
     "start_time": "2024-02-05T00:24:43.738820Z"
    }
   },
   "id": "1dc28f03d4c0fac7"
  },
  {
   "cell_type": "markdown",
   "source": [
    "### Parameter Counts\n",
    "- Generator: 106,301\n",
    "- Discriminator: 92,059\n",
    "- Combined: 198,360"
   ],
   "metadata": {
    "collapsed": false
   },
   "id": "d6a03ad327b95c53"
  },
  {
   "cell_type": "markdown",
   "source": [
    "## PyTorch Model\n",
    "\n",
    "To make LSTM-TrajGAN comparable to the other considered models in this project, we re-implemented the model in PyTorch.\n",
    "The corresponding code can be found in the files `stg/ml_torch/lstm_trajgan.py`, and `stg/ml_torch/loss.py`.\n",
    "We tried to keep the PyTorch implementation as close to the original TensorFlow implementation as possible.\n",
    "You can find unittests comparing the model parameters in the file `test/test_lstmtrajgan.py`.\n",
    "The trajLoss implementation was tested in the file `test/test_loss.py`.\n",
    "\n",
    "Please note that the PyTorch implementation uses a different implementation of the LSTM layer.\n",
    "The PyTorch LSTM layer has an additional bias term which results in an additional 400 parameters."
   ],
   "metadata": {
    "collapsed": false
   },
   "id": "644185948e8c08d7"
  },
  {
   "cell_type": "markdown",
   "source": [
    "### Load Dataset"
   ],
   "metadata": {
    "collapsed": false
   },
   "id": "ae9f29a1cbddae87"
  },
  {
   "cell_type": "code",
   "execution_count": 9,
   "outputs": [
    {
     "name": "stdout",
     "output_type": "stream",
     "text": [
      "[2024-02-05 11:24:43,842][\u001B[1;34mINFO\u001B[0m   ] \u001B[1;34mReading trajectories from '/home/erik/project2/data/fs_nyc/train_latlon.csv'.\u001B[0m (\u001B[1mfs_nyc.py\u001B[0m:85) \n",
      "Training Samples:\t 2052\n",
      "Reference Point:\t [-73.97770598  40.76959209]\n",
      "Scaling Factor:\t\t [0.29193802 0.21873963]\n",
      "Features:\t\t\t ['latlon', 'hour', 'day', 'category']\n"
     ]
    }
   ],
   "source": [
    "spatial_columns = ['lon', 'lat']\n",
    "\n",
    "# Compute reference point and scaling factor basd on all data\n",
    "# Note that this is a privacy leakage in some sense, however, the original implementation does it this way, and we intend to stay as close as possible to the original implementation.\n",
    "# In theory, it would be preferable to compute the reference point and scaling factor based on the insensitive data only. \n",
    "_all = pd.read_csv(PATH_ALL)\n",
    "ref = helpers.get_ref_point(_all[spatial_columns])\n",
    "sf = helpers.get_scaling_factor(_all[spatial_columns], ref)\n",
    "\n",
    "train_dataset = FSNYCDataset(\n",
    "    mode=DatasetModes.TRAIN,\n",
    "    spatial_columns=spatial_columns,\n",
    "    latlon_only=False,\n",
    "    normalize=True,\n",
    "    return_labels=False,\n",
    "    reference_point=ref,\n",
    "    scale_factor=sf,\n",
    ")\n",
    "\n",
    "print(\"Training Samples:\\t\", len(train_dataset))\n",
    "# print(\"All Samples:\\t\\t\", len(all_dataset))\n",
    "print(\"Reference Point:\\t\", ref)\n",
    "print(\"Scaling Factor:\\t\\t\", sf)\n",
    "print(\"Features:\\t\\t\\t\", train_dataset.features)\n",
    "\n",
    "# Expected Output:\n",
    "# Reference Point:\t [-73.977705979516, 40.76959209333479]\n",
    "# Scaling Factor:    [0.29193802048399675, 0.21873962593050322]"
   ],
   "metadata": {
    "collapsed": false,
    "ExecuteTime": {
     "end_time": "2024-02-05T00:24:45.263893Z",
     "start_time": "2024-02-05T00:24:43.783058Z"
    }
   },
   "id": "2d861c590287b53c"
  },
  {
   "cell_type": "code",
   "execution_count": 10,
   "outputs": [],
   "source": [
    "from stg.models.lstm_trajgan import LSTM_TrajGAN as LSTM_TrajGAN_PyTorch\n",
    "\n",
    "torch_gan = LSTM_TrajGAN_PyTorch(\n",
    "    reference_point=ref,\n",
    "    scale_factor=sf,\n",
    "    gpu=0 if USE_TF else GPU, # Have to use 0 in case of TF usage because the device is set up via environment variable for TF,\n",
    "    learning_rate=lr,\n",
    "    beta=beta,\n",
    ")"
   ],
   "metadata": {
    "collapsed": false,
    "ExecuteTime": {
     "end_time": "2024-02-05T00:24:48.941733Z",
     "start_time": "2024-02-05T00:24:45.260259Z"
    }
   },
   "id": "e80e4107c0a1e8c8"
  },
  {
   "cell_type": "code",
   "execution_count": 11,
   "outputs": [
    {
     "name": "stdout",
     "output_type": "stream",
     "text": [
      "[2024-02-05 11:24:48,980][\u001B[1;34mINFO\u001B[0m   ] \u001B[1;34membedding_layers.latlon: 192\u001B[0m (\u001B[1mhelpers.py\u001B[0m:56) \n",
      "[2024-02-05 11:24:48,981][\u001B[1;34mINFO\u001B[0m   ] \u001B[1;34membedding_layers.hour: 600\u001B[0m (\u001B[1mhelpers.py\u001B[0m:56) \n",
      "[2024-02-05 11:24:48,983][\u001B[1;34mINFO\u001B[0m   ] \u001B[1;34membedding_layers.day: 56\u001B[0m (\u001B[1mhelpers.py\u001B[0m:56) \n",
      "[2024-02-05 11:24:48,984][\u001B[1;34mINFO\u001B[0m   ] \u001B[1;34membedding_layers.category: 110\u001B[0m (\u001B[1mhelpers.py\u001B[0m:56) \n",
      "[2024-02-05 11:24:48,985][\u001B[1;34mINFO\u001B[0m   ] \u001B[1;34mfeature_fusion.0: 20600\u001B[0m (\u001B[1mhelpers.py\u001B[0m:56) \n",
      "[2024-02-05 11:24:48,986][\u001B[1;34mINFO\u001B[0m   ] \u001B[1;34mlstm.weight_ih_l0: 40000\u001B[0m (\u001B[1mhelpers.py\u001B[0m:56) \n",
      "[2024-02-05 11:24:48,987][\u001B[1;34mINFO\u001B[0m   ] \u001B[1;34mlstm.weight_hh_l0: 40000\u001B[0m (\u001B[1mhelpers.py\u001B[0m:56) \n",
      "[2024-02-05 11:24:48,988][\u001B[1;34mINFO\u001B[0m   ] \u001B[1;34mlstm.bias_ih_l0: 400\u001B[0m (\u001B[1mhelpers.py\u001B[0m:56) \n",
      "[2024-02-05 11:24:48,989][\u001B[1;34mINFO\u001B[0m   ] \u001B[1;34mlstm.bias_hh_l0: 400\u001B[0m (\u001B[1mhelpers.py\u001B[0m:56) \n",
      "[2024-02-05 11:24:48,990][\u001B[1;34mINFO\u001B[0m   ] \u001B[1;34moutput_layers.latlon: 202\u001B[0m (\u001B[1mhelpers.py\u001B[0m:56) \n",
      "[2024-02-05 11:24:48,991][\u001B[1;34mINFO\u001B[0m   ] \u001B[1;34moutput_layers.hour: 2424\u001B[0m (\u001B[1mhelpers.py\u001B[0m:56) \n",
      "[2024-02-05 11:24:48,992][\u001B[1;34mINFO\u001B[0m   ] \u001B[1;34moutput_layers.day: 707\u001B[0m (\u001B[1mhelpers.py\u001B[0m:56) \n",
      "[2024-02-05 11:24:48,993][\u001B[1;34mINFO\u001B[0m   ] \u001B[1;34moutput_layers.category: 1010\u001B[0m (\u001B[1mhelpers.py\u001B[0m:56) \n",
      "################################################################################ \n",
      " Total Parameters of Generator:\t\t 106701\n",
      "################################################################################\n",
      "[2024-02-05 11:24:48,994][\u001B[1;34mINFO\u001B[0m   ] \u001B[1;34membedding_layers.latlon: 192\u001B[0m (\u001B[1mhelpers.py\u001B[0m:56) \n",
      "[2024-02-05 11:24:48,995][\u001B[1;34mINFO\u001B[0m   ] \u001B[1;34membedding_layers.hour: 600\u001B[0m (\u001B[1mhelpers.py\u001B[0m:56) \n",
      "[2024-02-05 11:24:48,996][\u001B[1;34mINFO\u001B[0m   ] \u001B[1;34membedding_layers.day: 56\u001B[0m (\u001B[1mhelpers.py\u001B[0m:56) \n",
      "[2024-02-05 11:24:48,997][\u001B[1;34mINFO\u001B[0m   ] \u001B[1;34membedding_layers.category: 110\u001B[0m (\u001B[1mhelpers.py\u001B[0m:56) \n",
      "[2024-02-05 11:24:48,998][\u001B[1;34mINFO\u001B[0m   ] \u001B[1;34mfeature_fusion.0: 10600\u001B[0m (\u001B[1mhelpers.py\u001B[0m:56) \n",
      "[2024-02-05 11:24:48,999][\u001B[1;34mINFO\u001B[0m   ] \u001B[1;34mlstm.weight_ih_l0: 40000\u001B[0m (\u001B[1mhelpers.py\u001B[0m:56) \n",
      "[2024-02-05 11:24:48,999][\u001B[1;34mINFO\u001B[0m   ] \u001B[1;34mlstm.weight_hh_l0: 40000\u001B[0m (\u001B[1mhelpers.py\u001B[0m:56) \n",
      "[2024-02-05 11:24:49,000][\u001B[1;34mINFO\u001B[0m   ] \u001B[1;34mlstm.bias_ih_l0: 400\u001B[0m (\u001B[1mhelpers.py\u001B[0m:56) \n",
      "[2024-02-05 11:24:49,001][\u001B[1;34mINFO\u001B[0m   ] \u001B[1;34mlstm.bias_hh_l0: 400\u001B[0m (\u001B[1mhelpers.py\u001B[0m:56) \n",
      "[2024-02-05 11:24:49,002][\u001B[1;34mINFO\u001B[0m   ] \u001B[1;34moutput_layer.0: 101\u001B[0m (\u001B[1mhelpers.py\u001B[0m:56) \n",
      "################################################################################ \n",
      " Total Parameters of Discriminator:\t 92459\n",
      "################################################################################\n"
     ]
    }
   ],
   "source": [
    "from stg.utils.helpers import count_parameters_torch\n",
    "\n",
    "# Print model summary\n",
    "print(\"#\" * 80, \"\\n\", \"Total Parameters of Generator:\\t\\t\", count_parameters_torch(torch_gan.gen))\n",
    "print(\"#\" * 80)\n",
    "print(\"#\" * 80, \"\\n\", \"Total Parameters of Discriminator:\\t\", count_parameters_torch(torch_gan.dis))\n",
    "print(\"#\" * 80)"
   ],
   "metadata": {
    "collapsed": false,
    "ExecuteTime": {
     "end_time": "2024-02-05T00:24:49.047371Z",
     "start_time": "2024-02-05T00:24:48.944217Z"
    }
   },
   "id": "ad9897d71557e22b"
  },
  {
   "cell_type": "markdown",
   "source": [
    "### Parameter Counts\n",
    "- Generator: 106,701 (+400)\n",
    "- Discriminator: 92,459 (+400)\n",
    "\n",
    "Both counts are 400 parameters higher than the equivalent TensorFlow model.\n",
    "This is due to the fact that the PyTorch model uses a different implementation of the LSTM layer with an additional bias term.\n",
    "\n",
    "While the number of parameters does not prove equivalence, it is a good indicator to show the similarity of both models.\n",
    "Moreover, the file `test/test_loss.py` contains unittests to ensure that the loss functions are equivalent.\n",
    "The file `test/test_lstmtrajgan.py` contains further similarity tests."
   ],
   "metadata": {
    "collapsed": false
   },
   "id": "e2b47965000d3d51"
  },
  {
   "cell_type": "markdown",
   "source": [
    "### Training\n",
    "\n",
    "Create data loader equivalent to the TensorFlow version (i.e., using pre-padding with zeros)\n",
    "The default in PyTorch is post-padding with zeros\n",
    "However, [1] states: \n",
    "> \"Specifically, we use *zero pre-padding* to pad empty trajectory points (i.e., the points whose attributes are all set to zero) to each trajectory until all the trajectories reached the same length as the longest trajectory in the dataset.\""
   ],
   "metadata": {
    "collapsed": false
   },
   "id": "7349f0bfc5432982"
  },
  {
   "cell_type": "code",
   "execution_count": 12,
   "outputs": [
    {
     "name": "stdout",
     "output_type": "stream",
     "text": [
      "Number of Batches per epoch:\t 8\n",
      "Number of Epochs:\t\t\t\t 250\n",
      "Total Number of Batches:\t\t 2000\n"
     ]
    }
   ],
   "source": [
    "train_loader = DataLoader(\n",
    "    train_dataset,\n",
    "    batch_size=batch_size,\n",
    "    shuffle=True,\n",
    "    drop_last=True,\n",
    "    pin_memory=True,\n",
    "    collate_fn=pad_feature_first\n",
    ")\n",
    "print(\"Number of Batches per epoch:\\t\", len(train_loader))\n",
    "print(\"Number of Epochs:\\t\\t\\t\\t\", epochs)\n",
    "print(\"Total Number of Batches:\\t\\t\", len(train_loader) * epochs)"
   ],
   "metadata": {
    "collapsed": false,
    "ExecuteTime": {
     "end_time": "2024-02-05T00:24:49.092624Z",
     "start_time": "2024-02-05T00:24:49.045158Z"
    }
   },
   "id": "f689589cb4aaba4d"
  },
  {
   "cell_type": "code",
   "execution_count": 13,
   "outputs": [
    {
     "name": "stdout",
     "output_type": "stream",
     "text": [
      "[2024-02-05 11:24:49,112][\u001B[1;34mINFO\u001B[0m   ] \u001B[1;34mLoaded parameters from /home/erik/project2/parameters/LSTM_TrajGAN_PT/0250_COM.pth\u001B[0m (\u001B[1mtrajGAN.py\u001B[0m:83) \n"
     ]
    }
   ],
   "source": [
    "TRAIN = False  # Load instead of training\n",
    "LOAD_EPOCH = 250  # Epoch to load\n",
    "epochs = 1000\n",
    "\n",
    "\n",
    "if TRAIN:\n",
    "    # Training\n",
    "    start = timer()\n",
    "    torch_gan.training_loop(\n",
    "        train_loader,\n",
    "        epochs=epochs,\n",
    "        save_freq=50,\n",
    "        print_training=True,\n",
    "        notebook=True,\n",
    "    )\n",
    "    print(f\"Training took:\\t\\t{timer() - start:.2f}s\")\n",
    "else:\n",
    "    # Load pretrained model\n",
    "    torch_gan.load_parameters(\n",
    "        epoch=LOAD_EPOCH,\n",
    "    )"
   ],
   "metadata": {
    "collapsed": false,
    "ExecuteTime": {
     "end_time": "2024-02-05T00:24:49.124626Z",
     "start_time": "2024-02-05T00:24:49.087915Z"
    }
   },
   "id": "41c2bc143f861557"
  },
  {
   "cell_type": "markdown",
   "source": [
    "### Testing"
   ],
   "metadata": {
    "collapsed": false
   },
   "id": "6ba57c3359b5321"
  },
  {
   "cell_type": "code",
   "execution_count": 14,
   "outputs": [
    {
     "name": "stdout",
     "output_type": "stream",
     "text": [
      "[2024-02-05 11:24:49,157][\u001B[1;34mINFO\u001B[0m   ] \u001B[1;34mReading trajectories from '/home/erik/project2/data/fs_nyc/test_latlon.csv'.\u001B[0m (\u001B[1mfs_nyc.py\u001B[0m:85) \n"
     ]
    }
   ],
   "source": [
    "# Load Test Dataset\n",
    "test_dataset = FSNYCDataset(\n",
    "    mode=DatasetModes.TEST,\n",
    "    latlon_only=False,\n",
    "    normalize=True,\n",
    "    return_labels=False,\n",
    "    keep_original=True,\n",
    "    reference_point=torch_gan.reference_point,\n",
    "    scale_factor=torch_gan.scale_factor,\n",
    ")"
   ],
   "metadata": {
    "collapsed": false,
    "ExecuteTime": {
     "end_time": "2024-02-05T00:24:49.900459Z",
     "start_time": "2024-02-05T00:24:49.129545Z"
    }
   },
   "id": "c1cedbc63c062245"
  },
  {
   "cell_type": "markdown",
   "source": [
    "### Evaluate\n",
    "\n",
    "Evaluation makes mainly sense to compare different hyperparameters, as the loss does not have any meaning by itself"
   ],
   "metadata": {
    "collapsed": false
   },
   "id": "712edba146b22895"
  },
  {
   "cell_type": "code",
   "execution_count": 15,
   "outputs": [
    {
     "data": {
      "text/plain": "5102.827752777781"
     },
     "execution_count": 15,
     "metadata": {},
     "output_type": "execute_result"
    }
   ],
   "source": [
    "# Evaluate\n",
    "torch_gan.evaluate(test_dataset, batch_size=batch_size)"
   ],
   "metadata": {
    "collapsed": false,
    "ExecuteTime": {
     "end_time": "2024-02-05T00:24:50.263170Z",
     "start_time": "2024-02-05T00:24:49.903568Z"
    }
   },
   "id": "ff535744e9943710"
  },
  {
   "cell_type": "markdown",
   "source": [
    "## Predict and Compare\n",
    "\n",
    "In the following, we will use a model trained for 250 epochs, as used for the original evaluation, and compare the results."
   ],
   "metadata": {
    "collapsed": false
   },
   "id": "8004c0dea0f42a1f"
  },
  {
   "cell_type": "code",
   "execution_count": 16,
   "outputs": [
    {
     "name": "stdout",
     "output_type": "stream",
     "text": [
      "[2024-02-05 11:24:50,305][\u001B[1;34mINFO\u001B[0m   ] \u001B[1;34mLoaded parameters from /home/erik/project2/parameters/LSTM_TrajGAN_PT/0250_COM.pth\u001B[0m (\u001B[1mtrajGAN.py\u001B[0m:83) \n"
     ]
    }
   ],
   "source": [
    "from stg.models.lstm_trajgan import LSTM_TrajGAN as LSTM_TrajGAN_PyTorch\n",
    "\n",
    "LOAD_EPOCHS = 250\n",
    "\n",
    "torch_gan = LSTM_TrajGAN_PyTorch(\n",
    "    reference_point=ref,\n",
    "    scale_factor=sf,\n",
    "    gpu=0 if USE_TF else GPU, # Have to use 0 in case of TF usage because the device is set up via environment variable for TF,\n",
    "    learning_rate=lr,\n",
    "    beta=beta,\n",
    ")\n",
    "# Load pretrained model at 250 epochs\n",
    "torch_gan.load_parameters(\n",
    "    epoch=LOAD_EPOCHS,\n",
    ")"
   ],
   "metadata": {
    "collapsed": false,
    "ExecuteTime": {
     "end_time": "2024-02-05T00:24:50.318320Z",
     "start_time": "2024-02-05T00:24:50.264818Z"
    }
   },
   "id": "d8674891555fbdf9"
  },
  {
   "cell_type": "code",
   "execution_count": 17,
   "outputs": [],
   "source": [
    "predicted_df = torch_gan.predict_and_convert(test_dataset, batch_size=batch_size)\n",
    "predicted = helpers.df2trajectory_dict(predicted_df, 'tid')"
   ],
   "metadata": {
    "collapsed": false,
    "ExecuteTime": {
     "end_time": "2024-02-05T00:24:50.811350Z",
     "start_time": "2024-02-05T00:24:50.321138Z"
    }
   },
   "id": "577551afac7ac648"
  },
  {
   "cell_type": "markdown",
   "source": [
    "### Visualize Random Example\n",
    "\n",
    "First, we look at one randomly chosen trajectory."
   ],
   "metadata": {
    "collapsed": false
   },
   "id": "ed3c9531bf74ab63"
  },
  {
   "cell_type": "code",
   "execution_count": 18,
   "outputs": [
    {
     "name": "stdout",
     "output_type": "stream",
     "text": [
      "Reference Point:\t [-73.977705979516, 40.76959209333479]\n",
      "Scaling Factor:\t\t [0.29193802048399675, 0.21873962593050322]\n",
      "Bounding Box:\t\t (-74.269644, -73.685767959032, 40.55085246740429, 40.9883317192653)\n"
     ]
    }
   ],
   "source": [
    "# Visualize results\n",
    "# Compute dataset's bounding box based on reference point and scaling factor\n",
    "reference_point = test_dataset.reference_point\n",
    "scaling_factor = test_dataset.scale_factor\n",
    "print(\"Reference Point:\\t\", reference_point)\n",
    "print(\"Scaling Factor:\\t\\t\", scaling_factor)\n",
    "bbox = (\n",
    "    reference_point[0] - scaling_factor[0],\n",
    "    reference_point[0] + scaling_factor[0],\n",
    "    reference_point[1] - scaling_factor[1],\n",
    "    reference_point[1] + scaling_factor[1],\n",
    ")\n",
    "print(\"Bounding Box:\\t\\t\", bbox)"
   ],
   "metadata": {
    "collapsed": false,
    "ExecuteTime": {
     "end_time": "2024-02-05T00:24:50.858394Z",
     "start_time": "2024-02-05T00:24:50.814879Z"
    }
   },
   "id": "e0f4344e0eaa3a7d"
  },
  {
   "cell_type": "code",
   "execution_count": 19,
   "outputs": [
    {
     "name": "stdout",
     "output_type": "stream",
     "text": [
      "Trajectory ID:\t\t21050\n",
      "Total Points:      \t23\n",
      "Haversine Distance:\t459.40 m\n",
      "Euclidean Distance:\t0.02\n",
      "hour:              \t00 /  23 (0%)\n",
      "day:               \t00 /  23 (0%)\n",
      "category:          \t00 /  23 (0%)\n",
      "################################################################################\n",
      "       lat_o      lon_o      lat_p      lon_p   abs (m)  haversine (m)\n",
      "0  40.831283 -73.941393  40.832316 -73.938978  0.002626     233.369002\n",
      "1  40.770792 -73.985925  40.779716 -73.995308  0.012950    1268.510681\n",
      "2  40.770853 -73.984865  40.767104 -73.981976  0.004733     482.712222\n",
      "3  40.770792 -73.985925  40.770045 -73.984529  0.001583     143.965813\n",
      "4  40.770402 -73.984637  40.767245 -73.987556  0.004299     428.500171\n"
     ]
    },
    {
     "data": {
      "text/plain": "<Figure size 640x480 with 1 Axes>",
      "image/png": "[encoded data removed]"
     },
     "metadata": {},
     "output_type": "display_data"
    }
   ],
   "source": [
    "# Use haversine distance to compute the distance between the original and predicted trajectory\n",
    "from haversine import haversine_vector, Unit\n",
    "from stg.metrics.measurements import compute_data_preservation\n",
    "\n",
    "# Change the following line to a constant, if you would like to look at a specific trajectory\n",
    "tid = random.choice(test_dataset.tids)\n",
    "visualise.plot_trajectories(\n",
    "    [test_dataset.originals[tid], predicted[tid]],\n",
    "    labels=['Original', 'Predicted'],\n",
    "    title=f\"Trajectory {tid}\",\n",
    "    bbox=bbox\n",
    ")\n",
    "\n",
    "print(f\"Trajectory ID:\\t\\t{tid}\")\n",
    "CATEGORICAL_FEATURES = ['hour', 'day', 'category']\n",
    "res = compute_data_preservation(original=test_dataset.originals[tid], generated=predicted[tid], categorical_features=CATEGORICAL_FEATURES, print_results=True)\n",
    "\n",
    "# Print a table with the absolute and the haversine distance between each two points of the trajectory\n",
    "original = test_dataset.originals[tid]\n",
    "generated = predicted[tid]\n",
    "\n",
    "# combine with column names lat/lon_o and lat/lon_p\n",
    "combined = pd.concat([original[['lat', 'lon']].reset_index(drop=True).rename(columns={'lat': 'lat_o', 'lon':'lon_o'}),\n",
    "                      generated[['lat', 'lon']].reset_index(drop=True).rename(columns={'lat': 'lat_p', 'lon':'lon_p'})\n",
    "                      ], axis=1)\n",
    "# Compute haversine distance\n",
    "combined['haversine (m)'] = haversine_vector(combined[['lat_o', 'lon_o']], combined[['lat_p', 'lon_p']], unit=Unit.METERS)\n",
    "# Compute absolute distance\n",
    "combined['abs (m)'] = np.linalg.norm(combined[['lat_o', 'lon_o']].to_numpy() - combined[['lat_p', 'lon_p']].to_numpy(), axis=1)\n",
    "# Print table\n",
    "print('#' * 80)\n",
    "print(combined[['lat_o', 'lon_o', 'lat_p', 'lon_p', 'abs (m)', 'haversine (m)']].head())"
   ],
   "metadata": {
    "collapsed": false,
    "ExecuteTime": {
     "end_time": "2024-02-05T00:24:51.636414Z",
     "start_time": "2024-02-05T00:24:50.861296Z"
    }
   },
   "id": "7f5f12eee5c2a5f0"
  },
  {
   "cell_type": "markdown",
   "source": [
    "#### Discussion of Finding:\n",
    "- The predicted trajectory is very similar to the original one visually.\n",
    "- The categorical features are nearly identical. Especially the category and day of week are almost always identical. The hour has a bit more variation, but is still very similar. This might be caused by the increased number of values.\n",
    "- The Euclidean distance of the latitude/longitude vectors is very small, but the mean haversine distance between equivalent locations is still a few hundred meters. This is due to the fact that the Euclidean distance is computed in the projected space, while the haversine distance is computed in the geographic space. A small difference in the lon/lat coordinates results in a large difference in the haversine distance due to the size of the earth. \n",
    "- The reason for the apparent \"low\" accuracy of the location is not only the effect of small changes in Lat/Lon values, but also caused by the fact that the loss for the spatial components is much smaller than the categorical ones. \n",
    "\n",
    "In the following, you can see the plot of the same trajectory with the original and predicted locations on the map which allows you to zoom in to have a closer look:"
   ],
   "metadata": {
    "collapsed": false
   },
   "id": "20fde5bb42cf5a92"
  },
  {
   "cell_type": "code",
   "execution_count": 20,
   "outputs": [
    {
     "data": {
      "text/plain": "<folium.folium.Map at 0x7f6c06f49030>",
      "text/html": "<div style=\"width:100%;\"><div style=\"position:relative;width:100%;height:0;padding-bottom:60%;\"><span style=\"color:#565656\">Make this Notebook Trusted to load map: File -> Trust Notebook</span><iframe srcdoc=\"&lt;!DOCTYPE html&gt;\n&lt;html&gt;\n&lt;head&gt;\n    \n    &lt;meta http-equiv=&quot;content-type&quot; content=&quot;text/html; charset=UTF-8&quot; /&gt;\n    \n        &lt;script&gt;\n            L_NO_TOUCH = false;\n            L_DISABLE_3D = false;\n        &lt;/script&gt;\n    \n    &lt;style&gt;html, body {width: 100%;height: 100%;margin: 0;padding: 0;}&lt;/style&gt;\n    &lt;style&gt;#map {position:absolute;top:0;bottom:0;right:0;left:0;}&lt;/style&gt;\n    &lt;script src=&quot;https://cdn.jsdelivr.net/npm/leaflet@1.9.3/dist/leaflet.js&quot;&gt;&lt;/script&gt;\n    &lt;script src=&quot;https://code.jquery.com/jquery-1.12.4.min.js&quot;&gt;&lt;/script&gt;\n    &lt;script src=&quot;https://cdn.jsdelivr.net/npm/bootstrap@5.2.2/dist/js/bootstrap.bundle.min.js&quot;&gt;&lt;/script&gt;\n    &lt;script src=&quot;https://cdnjs.cloudflare.com/ajax/libs/Leaflet.awesome-markers/2.0.2/leaflet.awesome-markers.js&quot;&gt;&lt;/script&gt;\n    &lt;link rel=&quot;stylesheet&quot; href=&quot;https://cdn.jsdelivr.net/npm/leaflet@1.9.3/dist/leaflet.css&quot;/&gt;\n    &lt;link rel=&quot;stylesheet&quot; href=&quot;https://cdn.jsdelivr.net/npm/bootstrap@5.2.2/dist/css/bootstrap.min.css&quot;/&gt;\n    &lt;link rel=&quot;stylesheet&quot; href=&quot;https://netdna.bootstrapcdn.com/bootstrap/3.0.0/css/bootstrap.min.css&quot;/&gt;\n    &lt;link rel=&quot;stylesheet&quot; href=&quot;https://cdn.jsdelivr.net/npm/@fortawesome/fontawesome-free@6.2.0/css/all.min.css&quot;/&gt;\n    &lt;link rel=&quot;stylesheet&quot; href=&quot;https://cdnjs.cloudflare.com/ajax/libs/Leaflet.awesome-markers/2.0.2/leaflet.awesome-markers.css&quot;/&gt;\n    &lt;link rel=&quot;stylesheet&quot; href=&quot;https://cdn.jsdelivr.net/gh/python-visualization/folium/folium/templates/leaflet.awesome.rotate.min.css&quot;/&gt;\n    \n            &lt;meta name=&quot;viewport&quot; content=&quot;width=device-width,\n                initial-scale=1.0, maximum-scale=1.0, user-scalable=no&quot; /&gt;\n            &lt;style&gt;\n                #map_82227d77ecf7b74a3c200dad2eadf774 {\n                    position: relative;\n                    width: 100.0%;\n                    height: 100.0%;\n                    left: 0.0%;\n                    top: 0.0%;\n                }\n                .leaflet-container { font-size: 1rem; }\n            &lt;/style&gt;\n        \n&lt;/head&gt;\n&lt;body&gt;\n    \n    \n            &lt;div class=&quot;folium-map&quot; id=&quot;map_82227d77ecf7b74a3c200dad2eadf774&quot; &gt;&lt;/div&gt;\n        \n&lt;/body&gt;\n&lt;script&gt;\n    \n    \n            var map_82227d77ecf7b74a3c200dad2eadf774 = L.map(\n                &quot;map_82227d77ecf7b74a3c200dad2eadf774&quot;,\n                {\n                    center: [40.78363054520039, -73.9769045654817],\n                    crs: L.CRS.EPSG3857,\n                    zoom: 10,\n                    zoomControl: false,\n                    preferCanvas: false,\n                }\n            );\n            L.control.scale().addTo(map_82227d77ecf7b74a3c200dad2eadf774);\n\n            \n\n        \n    \n            var tile_layer_3c46d50b0e7d6a583ac36c48c1990ccf = L.tileLayer(\n                &quot;https://{s}.tile.openstreetmap.org/{z}/{x}/{y}.png&quot;,\n                {&quot;attribution&quot;: &quot;Data by \\u0026copy; \\u003ca target=\\&quot;_blank\\&quot; href=\\&quot;http://openstreetmap.org\\&quot;\\u003eOpenStreetMap\\u003c/a\\u003e, under \\u003ca target=\\&quot;_blank\\&quot; href=\\&quot;http://www.openstreetmap.org/copyright\\&quot;\\u003eODbL\\u003c/a\\u003e.&quot;, &quot;detectRetina&quot;: false, &quot;maxNativeZoom&quot;: 18, &quot;maxZoom&quot;: 18, &quot;minZoom&quot;: 0, &quot;noWrap&quot;: false, &quot;opacity&quot;: 1, &quot;subdomains&quot;: &quot;abc&quot;, &quot;tms&quot;: false}\n            ).addTo(map_82227d77ecf7b74a3c200dad2eadf774);\n        \n    \n            map_82227d77ecf7b74a3c200dad2eadf774.fitBounds(\n                [40.76710367182701, -73.99530844899816, 40.83836794895984, -73.93897811205717],\n                {&quot;padding&quot;: [0, 0]}\n            );\n        \n    \n            var poly_line_2dff05d2bf70da9ca053e7e74c47121b = L.polyline(\n                [[40.83128282647829, -73.941392502021], [40.7707918489699, -73.9859247207642], [40.7708529012547, -73.98486527832], [40.7707918489699, -73.9859247207642], [40.770401835894106, -73.984637260437], [40.77056711201929, -73.9841019777921], [40.7709577322311, -73.98431432486], [40.8331652006224, -73.9418603427692], [40.7707918489699, -73.9859247207642], [40.7708529012547, -73.98486527832]],\n                {&quot;bubblingMouseEvents&quot;: true, &quot;color&quot;: &quot;#e41a1c&quot;, &quot;dashArray&quot;: null, &quot;dashOffset&quot;: null, &quot;fill&quot;: false, &quot;fillColor&quot;: &quot;#e41a1c&quot;, &quot;fillOpacity&quot;: 0.2, &quot;fillRule&quot;: &quot;evenodd&quot;, &quot;lineCap&quot;: &quot;round&quot;, &quot;lineJoin&quot;: &quot;round&quot;, &quot;noClip&quot;: false, &quot;opacity&quot;: 0.8, &quot;smoothFactor&quot;: 1.0, &quot;stroke&quot;: true, &quot;weight&quot;: 5}\n            ).addTo(map_82227d77ecf7b74a3c200dad2eadf774);\n        \n    \n            var marker_935e481da72b993b902e5bd5f31ebb43 = L.marker(\n                [40.83128282647829, -73.941392502021],\n                {}\n            ).addTo(map_82227d77ecf7b74a3c200dad2eadf774);\n        \n    \n        var popup_2dc13282f0a9cdc4ff372c1ae1764935 = L.popup({&quot;maxWidth&quot;: &quot;100%&quot;});\n\n        \n            \n                var html_18166ee6a043ea714ea54564d649852e = $(`&lt;div id=&quot;html_18166ee6a043ea714ea54564d649852e&quot; style=&quot;width: 100.0%; height: 100.0%;&quot;&gt;Stop 1&lt;/div&gt;`)[0];\n                popup_2dc13282f0a9cdc4ff372c1ae1764935.setContent(html_18166ee6a043ea714ea54564d649852e);\n            \n        \n\n        marker_935e481da72b993b902e5bd5f31ebb43.bindPopup(popup_2dc13282f0a9cdc4ff372c1ae1764935)\n        ;\n\n        \n    \n    \n            var marker_ede9c06919d0c53d04ed4b9d18c65b1f = L.marker(\n                [40.7707918489699, -73.9859247207642],\n                {}\n            ).addTo(map_82227d77ecf7b74a3c200dad2eadf774);\n        \n    \n        var popup_ed371fe670eaf6cc6b9694e870f94627 = L.popup({&quot;maxWidth&quot;: &quot;100%&quot;});\n\n        \n            \n                var html_542b5e591d04f58832a424897fc2c72a = $(`&lt;div id=&quot;html_542b5e591d04f58832a424897fc2c72a&quot; style=&quot;width: 100.0%; height: 100.0%;&quot;&gt;Stop 2&lt;/div&gt;`)[0];\n                popup_ed371fe670eaf6cc6b9694e870f94627.setContent(html_542b5e591d04f58832a424897fc2c72a);\n            \n        \n\n        marker_ede9c06919d0c53d04ed4b9d18c65b1f.bindPopup(popup_ed371fe670eaf6cc6b9694e870f94627)\n        ;\n\n        \n    \n    \n            var marker_b72041993a2f1a45c4fb595e5863811b = L.marker(\n                [40.7708529012547, -73.98486527832],\n                {}\n            ).addTo(map_82227d77ecf7b74a3c200dad2eadf774);\n        \n    \n        var popup_dce2e3765ac388063a8775c1a923a5b2 = L.popup({&quot;maxWidth&quot;: &quot;100%&quot;});\n\n        \n            \n                var html_42abce816eb88f2bad3ac100d6539093 = $(`&lt;div id=&quot;html_42abce816eb88f2bad3ac100d6539093&quot; style=&quot;width: 100.0%; height: 100.0%;&quot;&gt;Stop 3&lt;/div&gt;`)[0];\n                popup_dce2e3765ac388063a8775c1a923a5b2.setContent(html_42abce816eb88f2bad3ac100d6539093);\n            \n        \n\n        marker_b72041993a2f1a45c4fb595e5863811b.bindPopup(popup_dce2e3765ac388063a8775c1a923a5b2)\n        ;\n\n        \n    \n    \n            var marker_5e5ce888c012cf59cdb9b38d121d0c26 = L.marker(\n                [40.7707918489699, -73.9859247207642],\n                {}\n            ).addTo(map_82227d77ecf7b74a3c200dad2eadf774);\n        \n    \n        var popup_37dbdd5a322248fd98474f5d03cf5df4 = L.popup({&quot;maxWidth&quot;: &quot;100%&quot;});\n\n        \n            \n                var html_1553439aa135024561834a72cbb449f0 = $(`&lt;div id=&quot;html_1553439aa135024561834a72cbb449f0&quot; style=&quot;width: 100.0%; height: 100.0%;&quot;&gt;Stop 4&lt;/div&gt;`)[0];\n                popup_37dbdd5a322248fd98474f5d03cf5df4.setContent(html_1553439aa135024561834a72cbb449f0);\n            \n        \n\n        marker_5e5ce888c012cf59cdb9b38d121d0c26.bindPopup(popup_37dbdd5a322248fd98474f5d03cf5df4)\n        ;\n\n        \n    \n    \n            var marker_5bb13d710591ebe09a13e1984efbc73a = L.marker(\n                [40.770401835894106, -73.984637260437],\n                {}\n            ).addTo(map_82227d77ecf7b74a3c200dad2eadf774);\n        \n    \n        var popup_aa227a24414a3d2d2c62cb217b517289 = L.popup({&quot;maxWidth&quot;: &quot;100%&quot;});\n\n        \n            \n                var html_db1b2417c625efc757cbfe9680cfe09b = $(`&lt;div id=&quot;html_db1b2417c625efc757cbfe9680cfe09b&quot; style=&quot;width: 100.0%; height: 100.0%;&quot;&gt;Stop 5&lt;/div&gt;`)[0];\n                popup_aa227a24414a3d2d2c62cb217b517289.setContent(html_db1b2417c625efc757cbfe9680cfe09b);\n            \n        \n\n        marker_5bb13d710591ebe09a13e1984efbc73a.bindPopup(popup_aa227a24414a3d2d2c62cb217b517289)\n        ;\n\n        \n    \n    \n            var marker_e1d6f693bb2b09de0ef3384cf7f9e15b = L.marker(\n                [40.77056711201929, -73.9841019777921],\n                {}\n            ).addTo(map_82227d77ecf7b74a3c200dad2eadf774);\n        \n    \n        var popup_655dd5aad13da7b0274b5c438c62b145 = L.popup({&quot;maxWidth&quot;: &quot;100%&quot;});\n\n        \n            \n                var html_4b6561e478113c7b9387e1154f6e5964 = $(`&lt;div id=&quot;html_4b6561e478113c7b9387e1154f6e5964&quot; style=&quot;width: 100.0%; height: 100.0%;&quot;&gt;Stop 6&lt;/div&gt;`)[0];\n                popup_655dd5aad13da7b0274b5c438c62b145.setContent(html_4b6561e478113c7b9387e1154f6e5964);\n            \n        \n\n        marker_e1d6f693bb2b09de0ef3384cf7f9e15b.bindPopup(popup_655dd5aad13da7b0274b5c438c62b145)\n        ;\n\n        \n    \n    \n            var marker_6da503d8482cd2cfb3b17cdf7aa83669 = L.marker(\n                [40.7709577322311, -73.98431432486],\n                {}\n            ).addTo(map_82227d77ecf7b74a3c200dad2eadf774);\n        \n    \n        var popup_f65742dca585f84988bddda70ceb5d7b = L.popup({&quot;maxWidth&quot;: &quot;100%&quot;});\n\n        \n            \n                var html_6d45fa15492120a463a0df3a253af0c7 = $(`&lt;div id=&quot;html_6d45fa15492120a463a0df3a253af0c7&quot; style=&quot;width: 100.0%; height: 100.0%;&quot;&gt;Stop 7&lt;/div&gt;`)[0];\n                popup_f65742dca585f84988bddda70ceb5d7b.setContent(html_6d45fa15492120a463a0df3a253af0c7);\n            \n        \n\n        marker_6da503d8482cd2cfb3b17cdf7aa83669.bindPopup(popup_f65742dca585f84988bddda70ceb5d7b)\n        ;\n\n        \n    \n    \n            var marker_332f52878619b214aa007df2764eb0d9 = L.marker(\n                [40.8331652006224, -73.9418603427692],\n                {}\n            ).addTo(map_82227d77ecf7b74a3c200dad2eadf774);\n        \n    \n        var popup_8a4b5dc4c23598ef908f480a08e19809 = L.popup({&quot;maxWidth&quot;: &quot;100%&quot;});\n\n        \n            \n                var html_ad9f42a29f02bc5ed4ec5e5102e8ac40 = $(`&lt;div id=&quot;html_ad9f42a29f02bc5ed4ec5e5102e8ac40&quot; style=&quot;width: 100.0%; height: 100.0%;&quot;&gt;Stop 8&lt;/div&gt;`)[0];\n                popup_8a4b5dc4c23598ef908f480a08e19809.setContent(html_ad9f42a29f02bc5ed4ec5e5102e8ac40);\n            \n        \n\n        marker_332f52878619b214aa007df2764eb0d9.bindPopup(popup_8a4b5dc4c23598ef908f480a08e19809)\n        ;\n\n        \n    \n    \n            var marker_9c454c658f7c5263b47e3338903551f4 = L.marker(\n                [40.7707918489699, -73.9859247207642],\n                {}\n            ).addTo(map_82227d77ecf7b74a3c200dad2eadf774);\n        \n    \n        var popup_23d77d3c57de92d1adc9e13058e868cb = L.popup({&quot;maxWidth&quot;: &quot;100%&quot;});\n\n        \n            \n                var html_6000002b21ab97fd7caad3796c681dc6 = $(`&lt;div id=&quot;html_6000002b21ab97fd7caad3796c681dc6&quot; style=&quot;width: 100.0%; height: 100.0%;&quot;&gt;Stop 9&lt;/div&gt;`)[0];\n                popup_23d77d3c57de92d1adc9e13058e868cb.setContent(html_6000002b21ab97fd7caad3796c681dc6);\n            \n        \n\n        marker_9c454c658f7c5263b47e3338903551f4.bindPopup(popup_23d77d3c57de92d1adc9e13058e868cb)\n        ;\n\n        \n    \n    \n            var marker_007a657a1418b470bd5edf905e091dab = L.marker(\n                [40.7708529012547, -73.98486527832],\n                {}\n            ).addTo(map_82227d77ecf7b74a3c200dad2eadf774);\n        \n    \n        var popup_ebe0dbaa87325facd7aa45ae19da94c6 = L.popup({&quot;maxWidth&quot;: &quot;100%&quot;});\n\n        \n            \n                var html_90cee41dcd191ec1ca2896753bc6c8e7 = $(`&lt;div id=&quot;html_90cee41dcd191ec1ca2896753bc6c8e7&quot; style=&quot;width: 100.0%; height: 100.0%;&quot;&gt;Stop 10&lt;/div&gt;`)[0];\n                popup_ebe0dbaa87325facd7aa45ae19da94c6.setContent(html_90cee41dcd191ec1ca2896753bc6c8e7);\n            \n        \n\n        marker_007a657a1418b470bd5edf905e091dab.bindPopup(popup_ebe0dbaa87325facd7aa45ae19da94c6)\n        ;\n\n        \n    \n    \n            var poly_line_257af38923dbedfba43ee104a7e36fb6 = L.polyline(\n                [[40.83231601108563, -73.93897811205717], [40.77971628002853, -73.99530844899816], [40.76710367182701, -73.98197584871264], [40.77004459491391, -73.984528628579], [40.76724545631619, -73.9875563192966], [40.77590711235344, -73.98621592382707], [40.76735706805434, -73.98092316643653], [40.83836794895984, -73.94103531156712], [40.774831340746424, -73.99344678188702], [40.76926536305816, -73.9843116414611]],\n                {&quot;bubblingMouseEvents&quot;: true, &quot;color&quot;: &quot;#377eb8&quot;, &quot;dashArray&quot;: null, &quot;dashOffset&quot;: null, &quot;fill&quot;: false, &quot;fillColor&quot;: &quot;#377eb8&quot;, &quot;fillOpacity&quot;: 0.2, &quot;fillRule&quot;: &quot;evenodd&quot;, &quot;lineCap&quot;: &quot;round&quot;, &quot;lineJoin&quot;: &quot;round&quot;, &quot;noClip&quot;: false, &quot;opacity&quot;: 0.8, &quot;smoothFactor&quot;: 1.0, &quot;stroke&quot;: true, &quot;weight&quot;: 5}\n            ).addTo(map_82227d77ecf7b74a3c200dad2eadf774);\n        \n    \n            var marker_138c0d7eff8159bff35b39f161b68f52 = L.marker(\n                [40.83231601108563, -73.93897811205717],\n                {}\n            ).addTo(map_82227d77ecf7b74a3c200dad2eadf774);\n        \n    \n        var popup_ad3566beba3e4ce79e50e6a08ec9b9b5 = L.popup({&quot;maxWidth&quot;: &quot;100%&quot;});\n\n        \n            \n                var html_8a351fe6d37d026faa87daf6e81ce327 = $(`&lt;div id=&quot;html_8a351fe6d37d026faa87daf6e81ce327&quot; style=&quot;width: 100.0%; height: 100.0%;&quot;&gt;Stop 1&lt;/div&gt;`)[0];\n                popup_ad3566beba3e4ce79e50e6a08ec9b9b5.setContent(html_8a351fe6d37d026faa87daf6e81ce327);\n            \n        \n\n        marker_138c0d7eff8159bff35b39f161b68f52.bindPopup(popup_ad3566beba3e4ce79e50e6a08ec9b9b5)\n        ;\n\n        \n    \n    \n            var marker_6c9ce14231be9abae584be3865716a19 = L.marker(\n                [40.77971628002853, -73.99530844899816],\n                {}\n            ).addTo(map_82227d77ecf7b74a3c200dad2eadf774);\n        \n    \n        var popup_007ce1e6730c1d6e4bb8c46826749911 = L.popup({&quot;maxWidth&quot;: &quot;100%&quot;});\n\n        \n            \n                var html_ade0283951736513f17594290e36caf3 = $(`&lt;div id=&quot;html_ade0283951736513f17594290e36caf3&quot; style=&quot;width: 100.0%; height: 100.0%;&quot;&gt;Stop 2&lt;/div&gt;`)[0];\n                popup_007ce1e6730c1d6e4bb8c46826749911.setContent(html_ade0283951736513f17594290e36caf3);\n            \n        \n\n        marker_6c9ce14231be9abae584be3865716a19.bindPopup(popup_007ce1e6730c1d6e4bb8c46826749911)\n        ;\n\n        \n    \n    \n            var marker_50aa5d400f79db6a7b2a75be46ed2f7f = L.marker(\n                [40.76710367182701, -73.98197584871264],\n                {}\n            ).addTo(map_82227d77ecf7b74a3c200dad2eadf774);\n        \n    \n        var popup_a78255846a427c27e9780674a68c1215 = L.popup({&quot;maxWidth&quot;: &quot;100%&quot;});\n\n        \n            \n                var html_edb234115eac7539392850f691ed7d0a = $(`&lt;div id=&quot;html_edb234115eac7539392850f691ed7d0a&quot; style=&quot;width: 100.0%; height: 100.0%;&quot;&gt;Stop 3&lt;/div&gt;`)[0];\n                popup_a78255846a427c27e9780674a68c1215.setContent(html_edb234115eac7539392850f691ed7d0a);\n            \n        \n\n        marker_50aa5d400f79db6a7b2a75be46ed2f7f.bindPopup(popup_a78255846a427c27e9780674a68c1215)\n        ;\n\n        \n    \n    \n            var marker_cb242f90922050e72c50e5fa2bfcb21d = L.marker(\n                [40.77004459491391, -73.984528628579],\n                {}\n            ).addTo(map_82227d77ecf7b74a3c200dad2eadf774);\n        \n    \n        var popup_afa10a1443d0dd1f108f78633fafe663 = L.popup({&quot;maxWidth&quot;: &quot;100%&quot;});\n\n        \n            \n                var html_d6ef3a158ba153b5a21b3597dbe2c778 = $(`&lt;div id=&quot;html_d6ef3a158ba153b5a21b3597dbe2c778&quot; style=&quot;width: 100.0%; height: 100.0%;&quot;&gt;Stop 4&lt;/div&gt;`)[0];\n                popup_afa10a1443d0dd1f108f78633fafe663.setContent(html_d6ef3a158ba153b5a21b3597dbe2c778);\n            \n        \n\n        marker_cb242f90922050e72c50e5fa2bfcb21d.bindPopup(popup_afa10a1443d0dd1f108f78633fafe663)\n        ;\n\n        \n    \n    \n            var marker_620e28788105eadfd500ad821db7233a = L.marker(\n                [40.76724545631619, -73.9875563192966],\n                {}\n            ).addTo(map_82227d77ecf7b74a3c200dad2eadf774);\n        \n    \n        var popup_66ecd8913e5b35c7c58a9e410403cf2c = L.popup({&quot;maxWidth&quot;: &quot;100%&quot;});\n\n        \n            \n                var html_92bf550414bfa9291ed73998a5c3ec42 = $(`&lt;div id=&quot;html_92bf550414bfa9291ed73998a5c3ec42&quot; style=&quot;width: 100.0%; height: 100.0%;&quot;&gt;Stop 5&lt;/div&gt;`)[0];\n                popup_66ecd8913e5b35c7c58a9e410403cf2c.setContent(html_92bf550414bfa9291ed73998a5c3ec42);\n            \n        \n\n        marker_620e28788105eadfd500ad821db7233a.bindPopup(popup_66ecd8913e5b35c7c58a9e410403cf2c)\n        ;\n\n        \n    \n    \n            var marker_e1d69984b76620137a602c0a1788f15e = L.marker(\n                [40.77590711235344, -73.98621592382707],\n                {}\n            ).addTo(map_82227d77ecf7b74a3c200dad2eadf774);\n        \n    \n        var popup_ea478c128a46523fa8c15161c53802dd = L.popup({&quot;maxWidth&quot;: &quot;100%&quot;});\n\n        \n            \n                var html_209784a497f397b0efb496c6387f6c63 = $(`&lt;div id=&quot;html_209784a497f397b0efb496c6387f6c63&quot; style=&quot;width: 100.0%; height: 100.0%;&quot;&gt;Stop 6&lt;/div&gt;`)[0];\n                popup_ea478c128a46523fa8c15161c53802dd.setContent(html_209784a497f397b0efb496c6387f6c63);\n            \n        \n\n        marker_e1d69984b76620137a602c0a1788f15e.bindPopup(popup_ea478c128a46523fa8c15161c53802dd)\n        ;\n\n        \n    \n    \n            var marker_db536a0bed1a98a4ed390b41954f5a83 = L.marker(\n                [40.76735706805434, -73.98092316643653],\n                {}\n            ).addTo(map_82227d77ecf7b74a3c200dad2eadf774);\n        \n    \n        var popup_8b923400f34a017e704808ec0b297457 = L.popup({&quot;maxWidth&quot;: &quot;100%&quot;});\n\n        \n            \n                var html_9f046863e0a8d4771ea1c12a107f6eb4 = $(`&lt;div id=&quot;html_9f046863e0a8d4771ea1c12a107f6eb4&quot; style=&quot;width: 100.0%; height: 100.0%;&quot;&gt;Stop 7&lt;/div&gt;`)[0];\n                popup_8b923400f34a017e704808ec0b297457.setContent(html_9f046863e0a8d4771ea1c12a107f6eb4);\n            \n        \n\n        marker_db536a0bed1a98a4ed390b41954f5a83.bindPopup(popup_8b923400f34a017e704808ec0b297457)\n        ;\n\n        \n    \n    \n            var marker_ba6b20cbe575e1f1d143adb9f9fe56a8 = L.marker(\n                [40.83836794895984, -73.94103531156712],\n                {}\n            ).addTo(map_82227d77ecf7b74a3c200dad2eadf774);\n        \n    \n        var popup_e2dddc23c5f0bc3870cc50e0d17d7705 = L.popup({&quot;maxWidth&quot;: &quot;100%&quot;});\n\n        \n            \n                var html_6d15680a35ab5ebf2deaa8220f756e2f = $(`&lt;div id=&quot;html_6d15680a35ab5ebf2deaa8220f756e2f&quot; style=&quot;width: 100.0%; height: 100.0%;&quot;&gt;Stop 8&lt;/div&gt;`)[0];\n                popup_e2dddc23c5f0bc3870cc50e0d17d7705.setContent(html_6d15680a35ab5ebf2deaa8220f756e2f);\n            \n        \n\n        marker_ba6b20cbe575e1f1d143adb9f9fe56a8.bindPopup(popup_e2dddc23c5f0bc3870cc50e0d17d7705)\n        ;\n\n        \n    \n    \n            var marker_24c3e7cd4d9e461d1273b738ceca6b73 = L.marker(\n                [40.774831340746424, -73.99344678188702],\n                {}\n            ).addTo(map_82227d77ecf7b74a3c200dad2eadf774);\n        \n    \n        var popup_d3afee045d9f1b65bfacf340b534264e = L.popup({&quot;maxWidth&quot;: &quot;100%&quot;});\n\n        \n            \n                var html_0445b7a331f4e38e417751290851c11a = $(`&lt;div id=&quot;html_0445b7a331f4e38e417751290851c11a&quot; style=&quot;width: 100.0%; height: 100.0%;&quot;&gt;Stop 9&lt;/div&gt;`)[0];\n                popup_d3afee045d9f1b65bfacf340b534264e.setContent(html_0445b7a331f4e38e417751290851c11a);\n            \n        \n\n        marker_24c3e7cd4d9e461d1273b738ceca6b73.bindPopup(popup_d3afee045d9f1b65bfacf340b534264e)\n        ;\n\n        \n    \n    \n            var marker_6f7543e55a49a5ac56c48354f05ac0f7 = L.marker(\n                [40.76926536305816, -73.9843116414611],\n                {}\n            ).addTo(map_82227d77ecf7b74a3c200dad2eadf774);\n        \n    \n        var popup_19abc40d5124f668b44ec93cb0b83ee4 = L.popup({&quot;maxWidth&quot;: &quot;100%&quot;});\n\n        \n            \n                var html_35a8733d22e2d2e9f6fb697edb3c7929 = $(`&lt;div id=&quot;html_35a8733d22e2d2e9f6fb697edb3c7929&quot; style=&quot;width: 100.0%; height: 100.0%;&quot;&gt;Stop 10&lt;/div&gt;`)[0];\n                popup_19abc40d5124f668b44ec93cb0b83ee4.setContent(html_35a8733d22e2d2e9f6fb697edb3c7929);\n            \n        \n\n        marker_6f7543e55a49a5ac56c48354f05ac0f7.bindPopup(popup_19abc40d5124f668b44ec93cb0b83ee4)\n        ;\n\n        \n    \n&lt;/script&gt;\n&lt;/html&gt;\" style=\"position:absolute;width:100%;height:100%;left:0;top:0;border:none !important;\" allowfullscreen webkitallowfullscreen mozallowfullscreen></iframe></div></div>"
     },
     "execution_count": 20,
     "metadata": {},
     "output_type": "execute_result"
    }
   ],
   "source": [
    "# Plot the example onto a map\n",
    "SHOW_NUM_FIRST_LOCATIONS = 10  # If you display the entire trajectories, the plot might become too confusing\n",
    "\n",
    "visualise.plot_traj_folium([test_dataset.originals[tid][:10], predicted[tid][:10]])\n",
    "# Red is the original trajectory and blue is the predicted one"
   ],
   "metadata": {
    "collapsed": false,
    "ExecuteTime": {
     "end_time": "2024-02-05T00:24:51.693221Z",
     "start_time": "2024-02-05T00:24:51.627733Z"
    }
   },
   "id": "4605ad85b54b83fd"
  },
  {
   "cell_type": "code",
   "execution_count": 21,
   "outputs": [
    {
     "data": {
      "text/plain": "<Figure size 2000x800 with 10 Axes>",
      "image/png": "[encoded data removed]"
     },
     "metadata": {},
     "output_type": "display_data"
    },
    {
     "data": {
      "text/plain": "<Figure size 640x480 with 0 Axes>"
     },
     "metadata": {},
     "output_type": "display_data"
    }
   ],
   "source": [
    "# Visualize 10 random examples in one plot using visualise.plot_trajectories\n",
    "tids = random.sample(test_dataset.tids, 10)\n",
    "fig, ax = plt.subplots(2, 5, sharey=True, sharex=True, figsize=(20, 8))\n",
    "for i, tid in enumerate(tids):\n",
    "    visualise.plot_trajectories(\n",
    "        [test_dataset.originals[tid], predicted[tid]],\n",
    "        labels=['Original', 'Predicted'],\n",
    "        title=f\"Trajectory {tid}\",\n",
    "        bbox=bbox,\n",
    "        ax=ax[i // 5, i % 5]\n",
    "    )\n",
    "# set Figure title\n",
    "fig.suptitle(f\"Trajectories after Training for {LOAD_EPOCHS} Epochs\")\n",
    "plt.show()\n",
    "if not RunningInCOLAB:\n",
    "    plt.savefig(config.BASE_DIR + f'plot/lstm-trajgan-{LOAD_EPOCHS}.png', dpi=300)"
   ],
   "metadata": {
    "collapsed": false,
    "ExecuteTime": {
     "end_time": "2024-02-05T00:24:53.462763Z",
     "start_time": "2024-02-05T00:24:51.688584Z"
    }
   },
   "id": "35e935d3f7d8a5f7"
  },
  {
   "cell_type": "markdown",
   "source": [
    "One thing that becomes very apparent is that all points are mainly shifted on the map.\n",
    "However, the general structure of the trajectory is preserved."
   ],
   "metadata": {
    "collapsed": false
   },
   "id": "28bbbed35405566f"
  },
  {
   "cell_type": "code",
   "execution_count": 22,
   "outputs": [
    {
     "data": {
      "text/plain": "    lat_original  lat_predicted  lat_diff  lon_original  lon_predicted  \\\n0      40.645089      40.639251  0.005839    -73.784523     -73.784943   \n1      40.640726      40.634261  0.006465    -73.789372     -73.790415   \n2      40.785773      40.791067 -0.005294    -73.950992     -73.957129   \n3      40.785773      40.788991 -0.003218    -73.950992     -73.948507   \n4      40.752719      40.753888 -0.001169    -73.983216     -73.979137   \n5      40.779501      40.778341  0.001159    -73.955846     -73.951117   \n6      40.779079      40.781525 -0.002445    -73.954779     -73.950052   \n7      40.785773      40.786616 -0.000843    -73.950992     -73.944678   \n8      40.752719      40.755786 -0.003067    -73.983216     -73.978617   \n9      40.747632      40.748592 -0.000960    -73.986369     -73.981205   \n10     40.749079      40.748957  0.000122    -73.983999     -73.977244   \n11     40.749079      40.748978  0.000101    -73.983999     -73.976878   \n12     40.753728      40.754763 -0.001035    -73.983688     -73.975354   \n13     40.785773      40.787971 -0.002198    -73.950992     -73.939764   \n14     40.785773      40.785532  0.000241    -73.950992     -73.945758   \n15     40.785806      40.789204 -0.003399    -73.950949     -73.948403   \n16     40.755027      40.753440  0.001587    -73.982148     -73.974994   \n17     40.752713      40.750548  0.002165    -73.980678     -73.972546   \n18     40.730836      40.731064 -0.000228    -73.997641     -73.986133   \n19     40.785773      40.786153 -0.000380    -73.950992     -73.957022   \n20     40.779437      40.776898  0.002538    -73.967900     -73.960897   \n21     40.774215      40.776517 -0.002302    -73.981176     -73.973152   \n22     40.774731      40.773926  0.000805    -73.982093     -73.978512   \n23     40.778504      40.777962  0.000542    -73.982092     -73.977859   \n24     40.785773      40.787969 -0.002195    -73.950992     -73.941653   \n25     40.752713      40.753370 -0.000657    -73.980678     -73.978603   \n26     40.785773      40.787540 -0.001767    -73.950992     -73.947964   \n\n    lon_diff  haversine (m)  \n0   0.000420     650.211400  \n1   0.001043     724.186463  \n2   0.006137     783.240172  \n3  -0.002485     414.446729  \n4  -0.004078     367.294593  \n5  -0.004729     418.526350  \n6  -0.004726     481.963592  \n7  -0.006314     539.756081  \n8  -0.004598     516.060479  \n9  -0.005164     447.891286  \n10 -0.006755     569.200790  \n11 -0.007121     599.953598  \n12 -0.008334     711.399494  \n13 -0.011228     976.361824  \n14 -0.005234     441.465290  \n15 -0.002546     434.471324  \n16 -0.007154     627.895655  \n17 -0.008132     726.069811  \n18 -0.011508     969.989614  \n19  0.006030     509.437388  \n20 -0.007004     653.782252  \n21 -0.008024     722.541053  \n22 -0.003581     314.532252  \n23 -0.004233     361.508643  \n24 -0.009338     823.233031  \n25 -0.002075     189.444849  \n26 -0.003027     321.794117  ",
      "text/html": "<div>\n<style scoped>\n    .dataframe tbody tr th:only-of-type {\n        vertical-align: middle;\n    }\n\n    .dataframe tbody tr th {\n        vertical-align: top;\n    }\n\n    .dataframe thead th {\n        text-align: right;\n    }\n</style>\n<table border=\"1\" class=\"dataframe\">\n  <thead>\n    <tr style=\"text-align: right;\">\n      <th></th>\n      <th>lat_original</th>\n      <th>lat_predicted</th>\n      <th>lat_diff</th>\n      <th>lon_original</th>\n      <th>lon_predicted</th>\n      <th>lon_diff</th>\n      <th>haversine (m)</th>\n    </tr>\n  </thead>\n  <tbody>\n    <tr>\n      <th>0</th>\n      <td>40.645089</td>\n      <td>40.639251</td>\n      <td>0.005839</td>\n      <td>-73.784523</td>\n      <td>-73.784943</td>\n      <td>0.000420</td>\n      <td>650.211400</td>\n    </tr>\n    <tr>\n      <th>1</th>\n      <td>40.640726</td>\n      <td>40.634261</td>\n      <td>0.006465</td>\n      <td>-73.789372</td>\n      <td>-73.790415</td>\n      <td>0.001043</td>\n      <td>724.186463</td>\n    </tr>\n    <tr>\n      <th>2</th>\n      <td>40.785773</td>\n      <td>40.791067</td>\n      <td>-0.005294</td>\n      <td>-73.950992</td>\n      <td>-73.957129</td>\n      <td>0.006137</td>\n      <td>783.240172</td>\n    </tr>\n    <tr>\n      <th>3</th>\n      <td>40.785773</td>\n      <td>40.788991</td>\n      <td>-0.003218</td>\n      <td>-73.950992</td>\n      <td>-73.948507</td>\n      <td>-0.002485</td>\n      <td>414.446729</td>\n    </tr>\n    <tr>\n      <th>4</th>\n      <td>40.752719</td>\n      <td>40.753888</td>\n      <td>-0.001169</td>\n      <td>-73.983216</td>\n      <td>-73.979137</td>\n      <td>-0.004078</td>\n      <td>367.294593</td>\n    </tr>\n    <tr>\n      <th>5</th>\n      <td>40.779501</td>\n      <td>40.778341</td>\n      <td>0.001159</td>\n      <td>-73.955846</td>\n      <td>-73.951117</td>\n      <td>-0.004729</td>\n      <td>418.526350</td>\n    </tr>\n    <tr>\n      <th>6</th>\n      <td>40.779079</td>\n      <td>40.781525</td>\n      <td>-0.002445</td>\n      <td>-73.954779</td>\n      <td>-73.950052</td>\n      <td>-0.004726</td>\n      <td>481.963592</td>\n    </tr>\n    <tr>\n      <th>7</th>\n      <td>40.785773</td>\n      <td>40.786616</td>\n      <td>-0.000843</td>\n      <td>-73.950992</td>\n      <td>-73.944678</td>\n      <td>-0.006314</td>\n      <td>539.756081</td>\n    </tr>\n    <tr>\n      <th>8</th>\n      <td>40.752719</td>\n      <td>40.755786</td>\n      <td>-0.003067</td>\n      <td>-73.983216</td>\n      <td>-73.978617</td>\n      <td>-0.004598</td>\n      <td>516.060479</td>\n    </tr>\n    <tr>\n      <th>9</th>\n      <td>40.747632</td>\n      <td>40.748592</td>\n      <td>-0.000960</td>\n      <td>-73.986369</td>\n      <td>-73.981205</td>\n      <td>-0.005164</td>\n      <td>447.891286</td>\n    </tr>\n    <tr>\n      <th>10</th>\n      <td>40.749079</td>\n      <td>40.748957</td>\n      <td>0.000122</td>\n      <td>-73.983999</td>\n      <td>-73.977244</td>\n      <td>-0.006755</td>\n      <td>569.200790</td>\n    </tr>\n    <tr>\n      <th>11</th>\n      <td>40.749079</td>\n      <td>40.748978</td>\n      <td>0.000101</td>\n      <td>-73.983999</td>\n      <td>-73.976878</td>\n      <td>-0.007121</td>\n      <td>599.953598</td>\n    </tr>\n    <tr>\n      <th>12</th>\n      <td>40.753728</td>\n      <td>40.754763</td>\n      <td>-0.001035</td>\n      <td>-73.983688</td>\n      <td>-73.975354</td>\n      <td>-0.008334</td>\n      <td>711.399494</td>\n    </tr>\n    <tr>\n      <th>13</th>\n      <td>40.785773</td>\n      <td>40.787971</td>\n      <td>-0.002198</td>\n      <td>-73.950992</td>\n      <td>-73.939764</td>\n      <td>-0.011228</td>\n      <td>976.361824</td>\n    </tr>\n    <tr>\n      <th>14</th>\n      <td>40.785773</td>\n      <td>40.785532</td>\n      <td>0.000241</td>\n      <td>-73.950992</td>\n      <td>-73.945758</td>\n      <td>-0.005234</td>\n      <td>441.465290</td>\n    </tr>\n    <tr>\n      <th>15</th>\n      <td>40.785806</td>\n      <td>40.789204</td>\n      <td>-0.003399</td>\n      <td>-73.950949</td>\n      <td>-73.948403</td>\n      <td>-0.002546</td>\n      <td>434.471324</td>\n    </tr>\n    <tr>\n      <th>16</th>\n      <td>40.755027</td>\n      <td>40.753440</td>\n      <td>0.001587</td>\n      <td>-73.982148</td>\n      <td>-73.974994</td>\n      <td>-0.007154</td>\n      <td>627.895655</td>\n    </tr>\n    <tr>\n      <th>17</th>\n      <td>40.752713</td>\n      <td>40.750548</td>\n      <td>0.002165</td>\n      <td>-73.980678</td>\n      <td>-73.972546</td>\n      <td>-0.008132</td>\n      <td>726.069811</td>\n    </tr>\n    <tr>\n      <th>18</th>\n      <td>40.730836</td>\n      <td>40.731064</td>\n      <td>-0.000228</td>\n      <td>-73.997641</td>\n      <td>-73.986133</td>\n      <td>-0.011508</td>\n      <td>969.989614</td>\n    </tr>\n    <tr>\n      <th>19</th>\n      <td>40.785773</td>\n      <td>40.786153</td>\n      <td>-0.000380</td>\n      <td>-73.950992</td>\n      <td>-73.957022</td>\n      <td>0.006030</td>\n      <td>509.437388</td>\n    </tr>\n    <tr>\n      <th>20</th>\n      <td>40.779437</td>\n      <td>40.776898</td>\n      <td>0.002538</td>\n      <td>-73.967900</td>\n      <td>-73.960897</td>\n      <td>-0.007004</td>\n      <td>653.782252</td>\n    </tr>\n    <tr>\n      <th>21</th>\n      <td>40.774215</td>\n      <td>40.776517</td>\n      <td>-0.002302</td>\n      <td>-73.981176</td>\n      <td>-73.973152</td>\n      <td>-0.008024</td>\n      <td>722.541053</td>\n    </tr>\n    <tr>\n      <th>22</th>\n      <td>40.774731</td>\n      <td>40.773926</td>\n      <td>0.000805</td>\n      <td>-73.982093</td>\n      <td>-73.978512</td>\n      <td>-0.003581</td>\n      <td>314.532252</td>\n    </tr>\n    <tr>\n      <th>23</th>\n      <td>40.778504</td>\n      <td>40.777962</td>\n      <td>0.000542</td>\n      <td>-73.982092</td>\n      <td>-73.977859</td>\n      <td>-0.004233</td>\n      <td>361.508643</td>\n    </tr>\n    <tr>\n      <th>24</th>\n      <td>40.785773</td>\n      <td>40.787969</td>\n      <td>-0.002195</td>\n      <td>-73.950992</td>\n      <td>-73.941653</td>\n      <td>-0.009338</td>\n      <td>823.233031</td>\n    </tr>\n    <tr>\n      <th>25</th>\n      <td>40.752713</td>\n      <td>40.753370</td>\n      <td>-0.000657</td>\n      <td>-73.980678</td>\n      <td>-73.978603</td>\n      <td>-0.002075</td>\n      <td>189.444849</td>\n    </tr>\n    <tr>\n      <th>26</th>\n      <td>40.785773</td>\n      <td>40.787540</td>\n      <td>-0.001767</td>\n      <td>-73.950992</td>\n      <td>-73.947964</td>\n      <td>-0.003027</td>\n      <td>321.794117</td>\n    </tr>\n  </tbody>\n</table>\n</div>"
     },
     "execution_count": 22,
     "metadata": {},
     "output_type": "execute_result"
    }
   ],
   "source": [
    "# Show the latitude and longitude values of the examples next to each other\n",
    "left = test_dataset.originals[tid][['lat', 'lon']].reset_index(drop=True)\n",
    "right = predicted[tid][['lat', 'lon']].reset_index(drop=True)\n",
    "# Rename Columns\n",
    "left.rename(columns={'lat': 'lat_original', 'lon': 'lon_original'}, inplace=True)\n",
    "right.rename(columns={'lat': 'lat_predicted', 'lon': 'lon_predicted'}, inplace=True)\n",
    "# Add differences\n",
    "left['lat_diff'] = left['lat_original'] - right['lat_predicted']\n",
    "left['lon_diff'] = left['lon_original'] - right['lon_predicted']\n",
    "left['haversine (m)'] = haversine_vector(left[['lat_original', 'lon_original']], right[['lat_predicted', 'lon_predicted']], unit=Unit.METERS)\n",
    "\n",
    "# Order columns: lat_o, lat_p, lat_d, lon_o, lon_p, lon_d\n",
    "pd.concat([left, right], axis=1)[['lat_original', 'lat_predicted', 'lat_diff', 'lon_original', 'lon_predicted', 'lon_diff', 'haversine (m)']]"
   ],
   "metadata": {
    "collapsed": false,
    "ExecuteTime": {
     "end_time": "2024-02-05T00:24:53.463602Z",
     "start_time": "2024-02-05T00:24:53.332580Z"
    }
   },
   "id": "96b54066a73bfc16"
  },
  {
   "cell_type": "markdown",
   "source": [
    "### Consider entire set of predictions\n",
    "\n",
    "In the following, we will have a look at the entire test set and compute some statistics."
   ],
   "metadata": {
    "collapsed": false
   },
   "id": "e145ede6eb8d255c"
  },
  {
   "cell_type": "code",
   "execution_count": 23,
   "outputs": [
    {
     "name": "stdout",
     "output_type": "stream",
     "text": [
      "---Spatial---\n",
      "Mean Haversine Distance (per location):\t\t\t785.2m\n",
      "Mean Euclidean Distance (per traj.):\t\t\t0.0087\n",
      "---day---\n",
      "Number of total different day:\t\t\t\t\t0\n",
      "Number of mean (per traj.) different day:\t\t0.0000\n",
      "Percent of wrong predictions for day:\t\t\t0.00%\n",
      "---category---\n",
      "Number of total different category:\t\t\t\t8\n",
      "Number of mean (per traj.) different category:\t0.0078\n",
      "Percent of wrong predictions for category:\t\t0.04%\n",
      "---hour---\n",
      "Number of total different hour:\t\t\t\t\t978\n",
      "Number of mean (per traj.) different hour:\t\t0.9523\n",
      "Percent of wrong predictions for hour:\t\t\t4.41%\n"
     ]
    }
   ],
   "source": [
    "# Compute mean haversine distance for all trajectories\n",
    "order = test_dataset.tids\n",
    "df_original = pd.concat([test_dataset.originals[tid] for tid in order])\n",
    "df_predicted = pd.concat([predicted[tid] for tid in order])\n",
    "\n",
    "print(f\"---Spatial---\")\n",
    "haversine_distances = haversine_vector(df_original[['lat', 'lon']], df_predicted[['lat', 'lon']], unit=Unit.METERS)\n",
    "mean_haversine_distance = np.mean(haversine_distances)\n",
    "print(f\"Mean Haversine Distance (per location):\\t\\t\\t{mean_haversine_distance:.1f}m\")\n",
    "\n",
    "# Compute mean euclidean distance for all trajectories\n",
    "euclidean_distances = np.linalg.norm(df_original[['lat', 'lon']].to_numpy() - df_predicted[['lat', 'lon']].to_numpy(), axis=1)\n",
    "mean_euclidean_distance = np.mean(euclidean_distances)\n",
    "print(f\"Mean Euclidean Distance (per traj.):\\t\\t\\t{mean_euclidean_distance:.4f}\")\n",
    "\n",
    "# Compute mean number of different categorical features\n",
    "CATEGORICAL_FEATURES = ['day', 'category', 'hour']\n",
    "diffs = {feature: 0 for feature in CATEGORICAL_FEATURES}\n",
    "num_samples = len(test_dataset)\n",
    "for feature in CATEGORICAL_FEATURES:\n",
    "    # Create a feature string with the appropriate number of tabs\n",
    "    feature_str = feature + ':' + '\\t' * (2 - int(len(feature) / 8)) \n",
    "    diffs[feature] = count_diff_in_list(df_original[feature], df_predicted[feature])\n",
    "    print(f\"---{feature}---\")\n",
    "    print(f\"Number of total different {feature_str}\\t\\t\\t{diffs[feature]}\")\n",
    "    print(f\"Number of mean (per traj.) different {feature_str}{diffs[feature] / num_samples:.4f}\")\n",
    "    print(f\"Percent of wrong predictions for {feature_str}\\t{diffs[feature] / len(df_original) * 100:.2f}%\")\n"
   ],
   "metadata": {
    "collapsed": false,
    "ExecuteTime": {
     "end_time": "2024-02-05T00:24:53.614885Z",
     "start_time": "2024-02-05T00:24:53.397234Z"
    }
   },
   "id": "620a8082ab5701a9"
  },
  {
   "cell_type": "markdown",
   "source": [
    "#### Discussion of Findings\n",
    "\n",
    "While one can argue that the spatial shift provides some privacy, the categorical features are almost always identical.\n",
    "In regard to the spatial differences, it can be observed that the structure of the trajectories is preserved, but the locations are shifted.\n",
    "This is similar to an effect that could be realised through the addition of noise. \n",
    "These findings do not show that LSTM-TrajGAN does not protect privacy.\n",
    "However, it should have become clear that the output trajectories are very close to the original test set.\n",
    "This raises questions in regard to the provided privacy level, without any theoretical guarantees.\n"
   ],
   "metadata": {
    "collapsed": false
   },
   "id": "44eb604b728c8153"
  },
  {
   "cell_type": "markdown",
   "source": [
    "## Evaluation I: Does LSTM-TrajGAN [1] learn the identity function?\n",
    "\n",
    "We have seen above that LSTM-TrajGAN does lead to different outputs than the input trajectories used during training.\n",
    "However, the differences are already small.\n",
    "The question arises whether LSTM-TrajGAN learns the identity function if trained long enough. \n",
    "In the paper [1] the training is stopped after 2000 batches (\\~250 epochs).\n",
    "Therefore, we intend to determine how the model performs if trained for much longer."
   ],
   "metadata": {
    "collapsed": false
   },
   "id": "604dd3b8883cc5c"
  },
  {
   "cell_type": "code",
   "execution_count": 24,
   "outputs": [
    {
     "name": "stdout",
     "output_type": "stream",
     "text": [
      "[2024-02-05 11:24:53,622][\u001B[1;34mINFO\u001B[0m   ] \u001B[1;34mLoaded parameters from /home/erik/project2/parameters/LSTM_TrajGAN_PT/1000_COM.pth\u001B[0m (\u001B[1mtrajGAN.py\u001B[0m:83) \n"
     ]
    }
   ],
   "source": [
    "from stg.models.lstm_trajgan import LSTM_TrajGAN as LSTM_TrajGAN_PyTorch\n",
    "\n",
    "LOAD_EPOCHS = 1000\n",
    "\n",
    "torch_gan = LSTM_TrajGAN_PyTorch(\n",
    "    reference_point=ref,\n",
    "    scale_factor=sf,\n",
    "    gpu=0 if USE_TF else GPU, # Have to use 0 in case of TF usage because the device is set up via environment variable for TF,\n",
    "    learning_rate=lr,\n",
    "    beta=beta,\n",
    ")\n",
    "# Load pretrained model at X epochs\n",
    "torch_gan.load_parameters(\n",
    "    epoch=LOAD_EPOCHS,\n",
    ")"
   ],
   "metadata": {
    "collapsed": false,
    "ExecuteTime": {
     "end_time": "2024-02-05T00:24:53.639816Z",
     "start_time": "2024-02-05T00:24:53.583127Z"
    }
   },
   "id": "9e7612f575707d69"
  },
  {
   "cell_type": "code",
   "execution_count": 25,
   "outputs": [],
   "source": [
    "predicted_df = torch_gan.predict_and_convert(test_dataset, batch_size=batch_size)\n",
    "predicted = helpers.df2trajectory_dict(predicted_df, 'tid')"
   ],
   "metadata": {
    "collapsed": false,
    "ExecuteTime": {
     "end_time": "2024-02-05T00:24:54.377811Z",
     "start_time": "2024-02-05T00:24:53.637891Z"
    }
   },
   "id": "c188c5516ba49c54"
  },
  {
   "cell_type": "code",
   "execution_count": 26,
   "outputs": [
    {
     "name": "stdout",
     "output_type": "stream",
     "text": [
      "Trajectory ID:\t\t2196\n",
      "Total Points:      \t22153\n",
      "Haversine Distance:\t223.52 m\n",
      "Euclidean Distance:\t0.43\n",
      "hour:              \t00 / 22153 (0%)\n",
      "day:               \t00 / 22153 (0%)\n",
      "category:          \t02 / 22153 (0%)\n"
     ]
    }
   ],
   "source": [
    "# Compute the same dataset statistics as before\n",
    "order = test_dataset.tids\n",
    "df_original = pd.concat([test_dataset.originals[tid] for tid in order])\n",
    "df_predicted = pd.concat([predicted[tid] for tid in order])\n",
    "\n",
    "print(f\"Trajectory ID:\\t\\t{tid}\")\n",
    "CATEGORICAL_FEATURES = ['hour', 'day', 'category']\n",
    "res = compute_data_preservation(original=df_original, generated=df_predicted, categorical_features=CATEGORICAL_FEATURES, print_results=True)"
   ],
   "metadata": {
    "collapsed": false,
    "ExecuteTime": {
     "end_time": "2024-02-05T00:24:54.558837Z",
     "start_time": "2024-02-05T00:24:54.368558Z"
    }
   },
   "id": "359060441949b207"
  },
  {
   "cell_type": "code",
   "execution_count": 27,
   "outputs": [
    {
     "data": {
      "text/plain": "<Figure size 2000x800 with 10 Axes>",
      "image/png": "[encoded data removed]"
     },
     "metadata": {},
     "output_type": "display_data"
    },
    {
     "data": {
      "text/plain": "<Figure size 640x480 with 0 Axes>"
     },
     "metadata": {},
     "output_type": "display_data"
    }
   ],
   "source": [
    "# Visualize 10 random examples in one plot using visualise.plot_trajectories\n",
    "tids = random.sample(test_dataset.tids, 10)\n",
    "fig, ax = plt.subplots(2, 5, sharey=True, sharex=True, figsize=(20, 8))\n",
    "for i, tid in enumerate(tids):\n",
    "    sub_ax = ax[i // 5, i % 5]\n",
    "    visualise.plot_trajectories(\n",
    "        [test_dataset.originals[tid], predicted[tid]],\n",
    "        labels=['Original', 'Predicted'],\n",
    "        title=f\"Trajectory {tid}\",\n",
    "        bbox=bbox,\n",
    "        ax=sub_ax\n",
    "    )\n",
    "    \n",
    "    # Set axis labels (x for bottom row, y for left column) \n",
    "    if i // 5 == 1:\n",
    "        sub_ax.set_xlabel('Longitude')\n",
    "    if i % 5 == 0:\n",
    "        sub_ax.set_ylabel('Latitude')\n",
    "# set Figure title\n",
    "fig.suptitle(f\"Trajectories after Training for {LOAD_EPOCHS:,} Epochs\")\n",
    "plt.show()\n",
    "if not RunningInCOLAB:\n",
    "    plt.savefig(config.BASE_DIR + 'plot/lstm-tg-eval-1.png')\n"
   ],
   "metadata": {
    "collapsed": false,
    "ExecuteTime": {
     "end_time": "2024-02-05T00:24:56.209361Z",
     "start_time": "2024-02-05T00:24:54.565408Z"
    }
   },
   "id": "c2870c3f9c1ab662"
  },
  {
   "cell_type": "code",
   "execution_count": 28,
   "outputs": [
    {
     "data": {
      "text/plain": "<folium.folium.Map at 0x7f6c406488b0>",
      "text/html": "<div style=\"width:100%;\"><div style=\"position:relative;width:100%;height:0;padding-bottom:60%;\"><span style=\"color:#565656\">Make this Notebook Trusted to load map: File -> Trust Notebook</span><iframe srcdoc=\"&lt;!DOCTYPE html&gt;\n&lt;html&gt;\n&lt;head&gt;\n    \n    &lt;meta http-equiv=&quot;content-type&quot; content=&quot;text/html; charset=UTF-8&quot; /&gt;\n    \n        &lt;script&gt;\n            L_NO_TOUCH = false;\n            L_DISABLE_3D = false;\n        &lt;/script&gt;\n    \n    &lt;style&gt;html, body {width: 100%;height: 100%;margin: 0;padding: 0;}&lt;/style&gt;\n    &lt;style&gt;#map {position:absolute;top:0;bottom:0;right:0;left:0;}&lt;/style&gt;\n    &lt;script src=&quot;https://cdn.jsdelivr.net/npm/leaflet@1.9.3/dist/leaflet.js&quot;&gt;&lt;/script&gt;\n    &lt;script src=&quot;https://code.jquery.com/jquery-1.12.4.min.js&quot;&gt;&lt;/script&gt;\n    &lt;script src=&quot;https://cdn.jsdelivr.net/npm/bootstrap@5.2.2/dist/js/bootstrap.bundle.min.js&quot;&gt;&lt;/script&gt;\n    &lt;script src=&quot;https://cdnjs.cloudflare.com/ajax/libs/Leaflet.awesome-markers/2.0.2/leaflet.awesome-markers.js&quot;&gt;&lt;/script&gt;\n    &lt;link rel=&quot;stylesheet&quot; href=&quot;https://cdn.jsdelivr.net/npm/leaflet@1.9.3/dist/leaflet.css&quot;/&gt;\n    &lt;link rel=&quot;stylesheet&quot; href=&quot;https://cdn.jsdelivr.net/npm/bootstrap@5.2.2/dist/css/bootstrap.min.css&quot;/&gt;\n    &lt;link rel=&quot;stylesheet&quot; href=&quot;https://netdna.bootstrapcdn.com/bootstrap/3.0.0/css/bootstrap.min.css&quot;/&gt;\n    &lt;link rel=&quot;stylesheet&quot; href=&quot;https://cdn.jsdelivr.net/npm/@fortawesome/fontawesome-free@6.2.0/css/all.min.css&quot;/&gt;\n    &lt;link rel=&quot;stylesheet&quot; href=&quot;https://cdnjs.cloudflare.com/ajax/libs/Leaflet.awesome-markers/2.0.2/leaflet.awesome-markers.css&quot;/&gt;\n    &lt;link rel=&quot;stylesheet&quot; href=&quot;https://cdn.jsdelivr.net/gh/python-visualization/folium/folium/templates/leaflet.awesome.rotate.min.css&quot;/&gt;\n    \n            &lt;meta name=&quot;viewport&quot; content=&quot;width=device-width,\n                initial-scale=1.0, maximum-scale=1.0, user-scalable=no&quot; /&gt;\n            &lt;style&gt;\n                #map_6dc69f30c2b7ca023eba2a4f7e2ecf77 {\n                    position: relative;\n                    width: 100.0%;\n                    height: 100.0%;\n                    left: 0.0%;\n                    top: 0.0%;\n                }\n                .leaflet-container { font-size: 1rem; }\n            &lt;/style&gt;\n        \n&lt;/head&gt;\n&lt;body&gt;\n    \n    \n            &lt;div class=&quot;folium-map&quot; id=&quot;map_6dc69f30c2b7ca023eba2a4f7e2ecf77&quot; &gt;&lt;/div&gt;\n        \n&lt;/body&gt;\n&lt;script&gt;\n    \n    \n            var map_6dc69f30c2b7ca023eba2a4f7e2ecf77 = L.map(\n                &quot;map_6dc69f30c2b7ca023eba2a4f7e2ecf77&quot;,\n                {\n                    center: [40.728410956007636, -73.9439742861131],\n                    crs: L.CRS.EPSG3857,\n                    zoom: 10,\n                    zoomControl: false,\n                    preferCanvas: false,\n                }\n            );\n            L.control.scale().addTo(map_6dc69f30c2b7ca023eba2a4f7e2ecf77);\n\n            \n\n        \n    \n            var tile_layer_4b91ec53481e3045c0a69c6d5f6a17fe = L.tileLayer(\n                &quot;https://{s}.tile.openstreetmap.org/{z}/{x}/{y}.png&quot;,\n                {&quot;attribution&quot;: &quot;Data by \\u0026copy; \\u003ca target=\\&quot;_blank\\&quot; href=\\&quot;http://openstreetmap.org\\&quot;\\u003eOpenStreetMap\\u003c/a\\u003e, under \\u003ca target=\\&quot;_blank\\&quot; href=\\&quot;http://www.openstreetmap.org/copyright\\&quot;\\u003eODbL\\u003c/a\\u003e.&quot;, &quot;detectRetina&quot;: false, &quot;maxNativeZoom&quot;: 18, &quot;maxZoom&quot;: 18, &quot;minZoom&quot;: 0, &quot;noWrap&quot;: false, &quot;opacity&quot;: 1, &quot;subdomains&quot;: &quot;abc&quot;, &quot;tms&quot;: false}\n            ).addTo(map_6dc69f30c2b7ca023eba2a4f7e2ecf77);\n        \n    \n            map_6dc69f30c2b7ca023eba2a4f7e2ecf77.fitBounds(\n                [40.64274106713085, -73.9914657165861, 40.76493551649784, -73.78170489717522],\n                {&quot;padding&quot;: [0, 0]}\n            );\n        \n    \n            var poly_line_1e7d38605fb71f56b2f4dddea435197b = L.polyline(\n                [[40.7418615140909, -73.9894336295337], [40.76224486711161, -73.97928717639279], [40.76224486711161, -73.97928717639279], [40.645089355976296, -73.7845230102539], [40.7311558720685, -73.9887276472533], [40.7316979983635, -73.9892269374164], [40.76224486711161, -73.97928717639279], [40.76224486711161, -73.97928717639279], [40.645089355976296, -73.7845230102539], [40.7418615140909, -73.9894336295337]],\n                {&quot;bubblingMouseEvents&quot;: true, &quot;color&quot;: &quot;#e41a1c&quot;, &quot;dashArray&quot;: null, &quot;dashOffset&quot;: null, &quot;fill&quot;: false, &quot;fillColor&quot;: &quot;#e41a1c&quot;, &quot;fillOpacity&quot;: 0.2, &quot;fillRule&quot;: &quot;evenodd&quot;, &quot;lineCap&quot;: &quot;round&quot;, &quot;lineJoin&quot;: &quot;round&quot;, &quot;noClip&quot;: false, &quot;opacity&quot;: 0.8, &quot;smoothFactor&quot;: 1.0, &quot;stroke&quot;: true, &quot;weight&quot;: 5}\n            ).addTo(map_6dc69f30c2b7ca023eba2a4f7e2ecf77);\n        \n    \n            var marker_accb05217116acca43e38034763e1c35 = L.marker(\n                [40.7418615140909, -73.9894336295337],\n                {}\n            ).addTo(map_6dc69f30c2b7ca023eba2a4f7e2ecf77);\n        \n    \n        var popup_1c22e9bb18a700d0d126fd6cfe6d407d = L.popup({&quot;maxWidth&quot;: &quot;100%&quot;});\n\n        \n            \n                var html_e3227477719ac6b6b25552752a89c68e = $(`&lt;div id=&quot;html_e3227477719ac6b6b25552752a89c68e&quot; style=&quot;width: 100.0%; height: 100.0%;&quot;&gt;Stop 1&lt;/div&gt;`)[0];\n                popup_1c22e9bb18a700d0d126fd6cfe6d407d.setContent(html_e3227477719ac6b6b25552752a89c68e);\n            \n        \n\n        marker_accb05217116acca43e38034763e1c35.bindPopup(popup_1c22e9bb18a700d0d126fd6cfe6d407d)\n        ;\n\n        \n    \n    \n            var marker_a86ea5f31ea8a8382d67152d2187d517 = L.marker(\n                [40.76224486711161, -73.97928717639279],\n                {}\n            ).addTo(map_6dc69f30c2b7ca023eba2a4f7e2ecf77);\n        \n    \n        var popup_567de913ced4d7474b35393b49209407 = L.popup({&quot;maxWidth&quot;: &quot;100%&quot;});\n\n        \n            \n                var html_9ce1ee381505d9ffabc9e68ff3bec5da = $(`&lt;div id=&quot;html_9ce1ee381505d9ffabc9e68ff3bec5da&quot; style=&quot;width: 100.0%; height: 100.0%;&quot;&gt;Stop 2&lt;/div&gt;`)[0];\n                popup_567de913ced4d7474b35393b49209407.setContent(html_9ce1ee381505d9ffabc9e68ff3bec5da);\n            \n        \n\n        marker_a86ea5f31ea8a8382d67152d2187d517.bindPopup(popup_567de913ced4d7474b35393b49209407)\n        ;\n\n        \n    \n    \n            var marker_97642d581e31a26091fa44a41c329480 = L.marker(\n                [40.76224486711161, -73.97928717639279],\n                {}\n            ).addTo(map_6dc69f30c2b7ca023eba2a4f7e2ecf77);\n        \n    \n        var popup_a69252ca9010a7a56777b62a43867260 = L.popup({&quot;maxWidth&quot;: &quot;100%&quot;});\n\n        \n            \n                var html_409484ffdc37b934d4bdebeb84363687 = $(`&lt;div id=&quot;html_409484ffdc37b934d4bdebeb84363687&quot; style=&quot;width: 100.0%; height: 100.0%;&quot;&gt;Stop 3&lt;/div&gt;`)[0];\n                popup_a69252ca9010a7a56777b62a43867260.setContent(html_409484ffdc37b934d4bdebeb84363687);\n            \n        \n\n        marker_97642d581e31a26091fa44a41c329480.bindPopup(popup_a69252ca9010a7a56777b62a43867260)\n        ;\n\n        \n    \n    \n            var marker_6f0a7c8775daa0ce27245e044eec66b1 = L.marker(\n                [40.645089355976296, -73.7845230102539],\n                {}\n            ).addTo(map_6dc69f30c2b7ca023eba2a4f7e2ecf77);\n        \n    \n        var popup_500d8cb23cf7b6545b3d25b71a7f3944 = L.popup({&quot;maxWidth&quot;: &quot;100%&quot;});\n\n        \n            \n                var html_7a3eb520238109e20aff33f01b0c9b40 = $(`&lt;div id=&quot;html_7a3eb520238109e20aff33f01b0c9b40&quot; style=&quot;width: 100.0%; height: 100.0%;&quot;&gt;Stop 4&lt;/div&gt;`)[0];\n                popup_500d8cb23cf7b6545b3d25b71a7f3944.setContent(html_7a3eb520238109e20aff33f01b0c9b40);\n            \n        \n\n        marker_6f0a7c8775daa0ce27245e044eec66b1.bindPopup(popup_500d8cb23cf7b6545b3d25b71a7f3944)\n        ;\n\n        \n    \n    \n            var marker_f3561f32bc860c56bc32e3e707f730fc = L.marker(\n                [40.7311558720685, -73.9887276472533],\n                {}\n            ).addTo(map_6dc69f30c2b7ca023eba2a4f7e2ecf77);\n        \n    \n        var popup_03e1d69ef9752a34ac647fe3402760cf = L.popup({&quot;maxWidth&quot;: &quot;100%&quot;});\n\n        \n            \n                var html_07c4abfe6d1afcbf96764f2b5681847a = $(`&lt;div id=&quot;html_07c4abfe6d1afcbf96764f2b5681847a&quot; style=&quot;width: 100.0%; height: 100.0%;&quot;&gt;Stop 5&lt;/div&gt;`)[0];\n                popup_03e1d69ef9752a34ac647fe3402760cf.setContent(html_07c4abfe6d1afcbf96764f2b5681847a);\n            \n        \n\n        marker_f3561f32bc860c56bc32e3e707f730fc.bindPopup(popup_03e1d69ef9752a34ac647fe3402760cf)\n        ;\n\n        \n    \n    \n            var marker_a2dae6773dae6988ed6ab3c1ed6341ff = L.marker(\n                [40.7316979983635, -73.9892269374164],\n                {}\n            ).addTo(map_6dc69f30c2b7ca023eba2a4f7e2ecf77);\n        \n    \n        var popup_fbc8088509bad59767da45fbbb8bd524 = L.popup({&quot;maxWidth&quot;: &quot;100%&quot;});\n\n        \n            \n                var html_f896484bbfa245a9c242f0253eb23349 = $(`&lt;div id=&quot;html_f896484bbfa245a9c242f0253eb23349&quot; style=&quot;width: 100.0%; height: 100.0%;&quot;&gt;Stop 6&lt;/div&gt;`)[0];\n                popup_fbc8088509bad59767da45fbbb8bd524.setContent(html_f896484bbfa245a9c242f0253eb23349);\n            \n        \n\n        marker_a2dae6773dae6988ed6ab3c1ed6341ff.bindPopup(popup_fbc8088509bad59767da45fbbb8bd524)\n        ;\n\n        \n    \n    \n            var marker_52c6880b416a49fe7e23d257ef4374a9 = L.marker(\n                [40.76224486711161, -73.97928717639279],\n                {}\n            ).addTo(map_6dc69f30c2b7ca023eba2a4f7e2ecf77);\n        \n    \n        var popup_b4ef06c1768a80f134437afda94e5c03 = L.popup({&quot;maxWidth&quot;: &quot;100%&quot;});\n\n        \n            \n                var html_8a1335518088c50e99748b42c30e9aa4 = $(`&lt;div id=&quot;html_8a1335518088c50e99748b42c30e9aa4&quot; style=&quot;width: 100.0%; height: 100.0%;&quot;&gt;Stop 7&lt;/div&gt;`)[0];\n                popup_b4ef06c1768a80f134437afda94e5c03.setContent(html_8a1335518088c50e99748b42c30e9aa4);\n            \n        \n\n        marker_52c6880b416a49fe7e23d257ef4374a9.bindPopup(popup_b4ef06c1768a80f134437afda94e5c03)\n        ;\n\n        \n    \n    \n            var marker_12b4e2ca8331cebbe9a668cf96dad1b0 = L.marker(\n                [40.76224486711161, -73.97928717639279],\n                {}\n            ).addTo(map_6dc69f30c2b7ca023eba2a4f7e2ecf77);\n        \n    \n        var popup_410718ea5a8ab467991820833e950e9d = L.popup({&quot;maxWidth&quot;: &quot;100%&quot;});\n\n        \n            \n                var html_b104e1f162dae009cdf9e242cdea59aa = $(`&lt;div id=&quot;html_b104e1f162dae009cdf9e242cdea59aa&quot; style=&quot;width: 100.0%; height: 100.0%;&quot;&gt;Stop 8&lt;/div&gt;`)[0];\n                popup_410718ea5a8ab467991820833e950e9d.setContent(html_b104e1f162dae009cdf9e242cdea59aa);\n            \n        \n\n        marker_12b4e2ca8331cebbe9a668cf96dad1b0.bindPopup(popup_410718ea5a8ab467991820833e950e9d)\n        ;\n\n        \n    \n    \n            var marker_502b522a679e4911e9cdf18b986da8e0 = L.marker(\n                [40.645089355976296, -73.7845230102539],\n                {}\n            ).addTo(map_6dc69f30c2b7ca023eba2a4f7e2ecf77);\n        \n    \n        var popup_4495b13ce371b911f80141af82b2a9fd = L.popup({&quot;maxWidth&quot;: &quot;100%&quot;});\n\n        \n            \n                var html_5967cbbfc4d746944a639caa2a9d0421 = $(`&lt;div id=&quot;html_5967cbbfc4d746944a639caa2a9d0421&quot; style=&quot;width: 100.0%; height: 100.0%;&quot;&gt;Stop 9&lt;/div&gt;`)[0];\n                popup_4495b13ce371b911f80141af82b2a9fd.setContent(html_5967cbbfc4d746944a639caa2a9d0421);\n            \n        \n\n        marker_502b522a679e4911e9cdf18b986da8e0.bindPopup(popup_4495b13ce371b911f80141af82b2a9fd)\n        ;\n\n        \n    \n    \n            var marker_83e2b0d1bf2f95a1ca21e2ad7d31525e = L.marker(\n                [40.7418615140909, -73.9894336295337],\n                {}\n            ).addTo(map_6dc69f30c2b7ca023eba2a4f7e2ecf77);\n        \n    \n        var popup_f416df93dc9731d3abcf7f176c3bc0ca = L.popup({&quot;maxWidth&quot;: &quot;100%&quot;});\n\n        \n            \n                var html_0301e8756de6e89007fcf6913964c245 = $(`&lt;div id=&quot;html_0301e8756de6e89007fcf6913964c245&quot; style=&quot;width: 100.0%; height: 100.0%;&quot;&gt;Stop 10&lt;/div&gt;`)[0];\n                popup_f416df93dc9731d3abcf7f176c3bc0ca.setContent(html_0301e8756de6e89007fcf6913964c245);\n            \n        \n\n        marker_83e2b0d1bf2f95a1ca21e2ad7d31525e.bindPopup(popup_f416df93dc9731d3abcf7f176c3bc0ca)\n        ;\n\n        \n    \n    \n            var poly_line_a81d92baefc0f533922c5ed83056f1a4 = L.polyline(\n                [[40.742767339157005, -73.98978965359447], [40.76493551649784, -73.97994617695853], [40.76260979063742, -73.97910836949882], [40.64274106713085, -73.78170489717522], [40.73220539363977, -73.98758020850504], [40.73175565787749, -73.9914657165861], [40.76196741586225, -73.97852083911314], [40.76046615653808, -73.97888845726882], [40.6428009371571, -73.78236967970734], [40.740234766642104, -73.98709515403881]],\n                {&quot;bubblingMouseEvents&quot;: true, &quot;color&quot;: &quot;#377eb8&quot;, &quot;dashArray&quot;: null, &quot;dashOffset&quot;: null, &quot;fill&quot;: false, &quot;fillColor&quot;: &quot;#377eb8&quot;, &quot;fillOpacity&quot;: 0.2, &quot;fillRule&quot;: &quot;evenodd&quot;, &quot;lineCap&quot;: &quot;round&quot;, &quot;lineJoin&quot;: &quot;round&quot;, &quot;noClip&quot;: false, &quot;opacity&quot;: 0.8, &quot;smoothFactor&quot;: 1.0, &quot;stroke&quot;: true, &quot;weight&quot;: 5}\n            ).addTo(map_6dc69f30c2b7ca023eba2a4f7e2ecf77);\n        \n    \n            var marker_83efe0ee75871e80d2b76a2b66bbe5bb = L.marker(\n                [40.742767339157005, -73.98978965359447],\n                {}\n            ).addTo(map_6dc69f30c2b7ca023eba2a4f7e2ecf77);\n        \n    \n        var popup_a42b4f25b73e4b0b428ec863989d3bd1 = L.popup({&quot;maxWidth&quot;: &quot;100%&quot;});\n\n        \n            \n                var html_0bc6222e3cb6badbecd63cd6ec71e4fd = $(`&lt;div id=&quot;html_0bc6222e3cb6badbecd63cd6ec71e4fd&quot; style=&quot;width: 100.0%; height: 100.0%;&quot;&gt;Stop 1&lt;/div&gt;`)[0];\n                popup_a42b4f25b73e4b0b428ec863989d3bd1.setContent(html_0bc6222e3cb6badbecd63cd6ec71e4fd);\n            \n        \n\n        marker_83efe0ee75871e80d2b76a2b66bbe5bb.bindPopup(popup_a42b4f25b73e4b0b428ec863989d3bd1)\n        ;\n\n        \n    \n    \n            var marker_efe8bcb62ac39cde434298829484cc56 = L.marker(\n                [40.76493551649784, -73.97994617695853],\n                {}\n            ).addTo(map_6dc69f30c2b7ca023eba2a4f7e2ecf77);\n        \n    \n        var popup_66756760f7d94965c33295fcfd2e0564 = L.popup({&quot;maxWidth&quot;: &quot;100%&quot;});\n\n        \n            \n                var html_ab1bb7b4ddeeba8700f85f249e8be82b = $(`&lt;div id=&quot;html_ab1bb7b4ddeeba8700f85f249e8be82b&quot; style=&quot;width: 100.0%; height: 100.0%;&quot;&gt;Stop 2&lt;/div&gt;`)[0];\n                popup_66756760f7d94965c33295fcfd2e0564.setContent(html_ab1bb7b4ddeeba8700f85f249e8be82b);\n            \n        \n\n        marker_efe8bcb62ac39cde434298829484cc56.bindPopup(popup_66756760f7d94965c33295fcfd2e0564)\n        ;\n\n        \n    \n    \n            var marker_c8d5134f3821664399359d014612f856 = L.marker(\n                [40.76260979063742, -73.97910836949882],\n                {}\n            ).addTo(map_6dc69f30c2b7ca023eba2a4f7e2ecf77);\n        \n    \n        var popup_990090e5a4b53555286257228f7eed99 = L.popup({&quot;maxWidth&quot;: &quot;100%&quot;});\n\n        \n            \n                var html_bdca2b255fafabe1ff5b9aac1a8896be = $(`&lt;div id=&quot;html_bdca2b255fafabe1ff5b9aac1a8896be&quot; style=&quot;width: 100.0%; height: 100.0%;&quot;&gt;Stop 3&lt;/div&gt;`)[0];\n                popup_990090e5a4b53555286257228f7eed99.setContent(html_bdca2b255fafabe1ff5b9aac1a8896be);\n            \n        \n\n        marker_c8d5134f3821664399359d014612f856.bindPopup(popup_990090e5a4b53555286257228f7eed99)\n        ;\n\n        \n    \n    \n            var marker_ff1d82beaad42128bf06bc458c7f0a21 = L.marker(\n                [40.64274106713085, -73.78170489717522],\n                {}\n            ).addTo(map_6dc69f30c2b7ca023eba2a4f7e2ecf77);\n        \n    \n        var popup_a585e7fe97d32e3f5d4d5ec79e40d0a9 = L.popup({&quot;maxWidth&quot;: &quot;100%&quot;});\n\n        \n            \n                var html_d6b2bf2bddede4e8de4ef0d55738caa9 = $(`&lt;div id=&quot;html_d6b2bf2bddede4e8de4ef0d55738caa9&quot; style=&quot;width: 100.0%; height: 100.0%;&quot;&gt;Stop 4&lt;/div&gt;`)[0];\n                popup_a585e7fe97d32e3f5d4d5ec79e40d0a9.setContent(html_d6b2bf2bddede4e8de4ef0d55738caa9);\n            \n        \n\n        marker_ff1d82beaad42128bf06bc458c7f0a21.bindPopup(popup_a585e7fe97d32e3f5d4d5ec79e40d0a9)\n        ;\n\n        \n    \n    \n            var marker_b2809660da079c0d634b0adbc612dd26 = L.marker(\n                [40.73220539363977, -73.98758020850504],\n                {}\n            ).addTo(map_6dc69f30c2b7ca023eba2a4f7e2ecf77);\n        \n    \n        var popup_5bf7a55e262ff8124e9c465c78bc77a7 = L.popup({&quot;maxWidth&quot;: &quot;100%&quot;});\n\n        \n            \n                var html_6716c50016cc7790f73c63eca73ee48b = $(`&lt;div id=&quot;html_6716c50016cc7790f73c63eca73ee48b&quot; style=&quot;width: 100.0%; height: 100.0%;&quot;&gt;Stop 5&lt;/div&gt;`)[0];\n                popup_5bf7a55e262ff8124e9c465c78bc77a7.setContent(html_6716c50016cc7790f73c63eca73ee48b);\n            \n        \n\n        marker_b2809660da079c0d634b0adbc612dd26.bindPopup(popup_5bf7a55e262ff8124e9c465c78bc77a7)\n        ;\n\n        \n    \n    \n            var marker_b108bbf7f3f4e36a22fb7f18558a4c1c = L.marker(\n                [40.73175565787749, -73.9914657165861],\n                {}\n            ).addTo(map_6dc69f30c2b7ca023eba2a4f7e2ecf77);\n        \n    \n        var popup_ae4c73f2e84a2b45802e51faaca6dabc = L.popup({&quot;maxWidth&quot;: &quot;100%&quot;});\n\n        \n            \n                var html_8f9063d7eb752996e66826ed3a90d010 = $(`&lt;div id=&quot;html_8f9063d7eb752996e66826ed3a90d010&quot; style=&quot;width: 100.0%; height: 100.0%;&quot;&gt;Stop 6&lt;/div&gt;`)[0];\n                popup_ae4c73f2e84a2b45802e51faaca6dabc.setContent(html_8f9063d7eb752996e66826ed3a90d010);\n            \n        \n\n        marker_b108bbf7f3f4e36a22fb7f18558a4c1c.bindPopup(popup_ae4c73f2e84a2b45802e51faaca6dabc)\n        ;\n\n        \n    \n    \n            var marker_61cb0a1e86d843e085e60453cacd689c = L.marker(\n                [40.76196741586225, -73.97852083911314],\n                {}\n            ).addTo(map_6dc69f30c2b7ca023eba2a4f7e2ecf77);\n        \n    \n        var popup_26206b75f5de997cdee71201d1e1eac2 = L.popup({&quot;maxWidth&quot;: &quot;100%&quot;});\n\n        \n            \n                var html_03b050b0e9db3043e4f75ad10ed7d975 = $(`&lt;div id=&quot;html_03b050b0e9db3043e4f75ad10ed7d975&quot; style=&quot;width: 100.0%; height: 100.0%;&quot;&gt;Stop 7&lt;/div&gt;`)[0];\n                popup_26206b75f5de997cdee71201d1e1eac2.setContent(html_03b050b0e9db3043e4f75ad10ed7d975);\n            \n        \n\n        marker_61cb0a1e86d843e085e60453cacd689c.bindPopup(popup_26206b75f5de997cdee71201d1e1eac2)\n        ;\n\n        \n    \n    \n            var marker_aa1a066572ebfe5800176bd962f227a8 = L.marker(\n                [40.76046615653808, -73.97888845726882],\n                {}\n            ).addTo(map_6dc69f30c2b7ca023eba2a4f7e2ecf77);\n        \n    \n        var popup_8e30be8545eb45a4b777199e28caa7e6 = L.popup({&quot;maxWidth&quot;: &quot;100%&quot;});\n\n        \n            \n                var html_3af89c7f8f4e9499292aa70d2f51da81 = $(`&lt;div id=&quot;html_3af89c7f8f4e9499292aa70d2f51da81&quot; style=&quot;width: 100.0%; height: 100.0%;&quot;&gt;Stop 8&lt;/div&gt;`)[0];\n                popup_8e30be8545eb45a4b777199e28caa7e6.setContent(html_3af89c7f8f4e9499292aa70d2f51da81);\n            \n        \n\n        marker_aa1a066572ebfe5800176bd962f227a8.bindPopup(popup_8e30be8545eb45a4b777199e28caa7e6)\n        ;\n\n        \n    \n    \n            var marker_b0c7b753c4ee446a15047cc165a8ed95 = L.marker(\n                [40.6428009371571, -73.78236967970734],\n                {}\n            ).addTo(map_6dc69f30c2b7ca023eba2a4f7e2ecf77);\n        \n    \n        var popup_08541bf16ab6ecb667eb50986a450407 = L.popup({&quot;maxWidth&quot;: &quot;100%&quot;});\n\n        \n            \n                var html_05539d08daba10df2d4f4e9c2d1de7de = $(`&lt;div id=&quot;html_05539d08daba10df2d4f4e9c2d1de7de&quot; style=&quot;width: 100.0%; height: 100.0%;&quot;&gt;Stop 9&lt;/div&gt;`)[0];\n                popup_08541bf16ab6ecb667eb50986a450407.setContent(html_05539d08daba10df2d4f4e9c2d1de7de);\n            \n        \n\n        marker_b0c7b753c4ee446a15047cc165a8ed95.bindPopup(popup_08541bf16ab6ecb667eb50986a450407)\n        ;\n\n        \n    \n    \n            var marker_eba9f113ba2a11c561024870832c8525 = L.marker(\n                [40.740234766642104, -73.98709515403881],\n                {}\n            ).addTo(map_6dc69f30c2b7ca023eba2a4f7e2ecf77);\n        \n    \n        var popup_718942d189510da930c9155725bd4b76 = L.popup({&quot;maxWidth&quot;: &quot;100%&quot;});\n\n        \n            \n                var html_c1f76926fbb95e3e3de1dc38a635d300 = $(`&lt;div id=&quot;html_c1f76926fbb95e3e3de1dc38a635d300&quot; style=&quot;width: 100.0%; height: 100.0%;&quot;&gt;Stop 10&lt;/div&gt;`)[0];\n                popup_718942d189510da930c9155725bd4b76.setContent(html_c1f76926fbb95e3e3de1dc38a635d300);\n            \n        \n\n        marker_eba9f113ba2a11c561024870832c8525.bindPopup(popup_718942d189510da930c9155725bd4b76)\n        ;\n\n        \n    \n&lt;/script&gt;\n&lt;/html&gt;\" style=\"position:absolute;width:100%;height:100%;left:0;top:0;border:none !important;\" allowfullscreen webkitallowfullscreen mozallowfullscreen></iframe></div></div>"
     },
     "execution_count": 28,
     "metadata": {},
     "output_type": "execute_result"
    }
   ],
   "source": [
    "# One example on the map\n",
    "tid = random.choice(test_dataset.tids)  # '19219' is a good example\n",
    "visualise.plot_traj_folium([test_dataset.originals[tid][:10], predicted[tid][:10]])\n",
    "\n",
    "# Please note that on some machines, folium might not work properly."
   ],
   "metadata": {
    "collapsed": false,
    "ExecuteTime": {
     "end_time": "2024-02-05T00:24:56.388084Z",
     "start_time": "2024-02-05T00:24:56.212194Z"
    }
   },
   "id": "fa80ac753038e3a"
  },
  {
   "cell_type": "markdown",
   "source": [
    "### Discussion\n",
    "\n",
    "The results show that the longer the model is trained, the closer does the output come to the input. \n",
    "In particular, the categorical features are almost always identical.\n",
    "The spatial differences are still present, but the trajectories are shifted less and less.\n",
    "Moreover, this effect could be pronounced by increasing the weight of the spatial loss.\n",
    "\n",
    "Of course, one can argue that the model simply should not be trained to long.\n",
    "While this is true, and we do not want to argue that LSTM-TrajGAN is not a privacy-preserving model, we want to point out that the model does not provide any theoretical guarantees.\n",
    "Instead, the privacy that can be provided depends on design decisions such as the number of epochs the model is trained for.\n",
    "Moreover, these parameters also depend on the dataset.\n",
    "Accordingly, it is impossible to recommend a set of parameters that provides a certain level of privacy.\n",
    "If the model is trained for too long, it converges more and more to the identity function having detrimental effects on privacy levels."
   ],
   "metadata": {
    "collapsed": false
   },
   "id": "249d98168678b7d7"
  },
  {
   "cell_type": "markdown",
   "source": [
    "### Load Results of 5-fold validation"
   ],
   "metadata": {
    "collapsed": false
   },
   "id": "77485daf7ea6f40e"
  },
  {
   "cell_type": "code",
   "execution_count": 5,
   "outputs": [
    {
     "name": "stdout",
     "output_type": "stream",
     "text": [
      "| Dataset         |   Epochs |   Batches |   Haversine Mean [m] |   Euclidean Mean |   Hour [%] |   Day [%] |   Category [%] |\n",
      "|:----------------|---------:|----------:|---------------------:|-----------------:|-----------:|----------:|---------------:|\n",
      "| Foursquare NYC  |      250 |      2000 |               837.74 |             1.50 |       7.78 |      0.01 |           0.79 |\n",
      "| Foursquare NYC  |     2500 |     20000 |               182.99 |             0.35 |       0.00 |      0.00 |           0.01 |\n",
      "| GeoLife         |       11 |      2000 |               492.06 |             8.52 |       3.24 |      0.01 |            N/A |\n",
      "| GeoLife         |      110 |     20000 |               132.58 |             2.51 |       0.01 |      0.00 |            N/A |\n",
      "| GeoLife Spatial |       11 |      2000 |               230.02 |             4.12 |        N/A |       N/A |            N/A |\n",
      "| GeoLife Spatial |      110 |     20000 |                92.28 |             1.57 |        N/A |       N/A |            N/A |\n"
     ]
    }
   ],
   "source": [
    "import pandas as pd\n",
    "from stg import config\n",
    "\n",
    "\n",
    "# df = pd.read_csv(config.RESULT_DIR + 'lstm_conv/2023-10-30_20-55-15_fs_2000.csv')  # OLD\n",
    "df = pd.read_csv(config.RESULT_DIR + 'lstm_conv/2023-11-26_14-42-14_fs_2000.csv')\n",
    "# print(\"Foursquare NYC 2'000 Batches\")\n",
    "# df.groupby(['dataset', 'epochs', 'num_batches']).mean()\n",
    "# print(\"Foursquare NYC 20'000 Batches\")\n",
    "\n",
    "# Append case for 20'000 batches\n",
    "df_20k = pd.read_csv(config.RESULT_DIR + 'lstm_conv/2023-11-26_14-55-35_fs_20000.csv')\n",
    "df = pd.concat([df, df_20k])\n",
    "\n",
    "# Append case for GeoLife 2'000 batches\n",
    "df_gl = pd.read_csv(config.RESULT_DIR + 'lstm_conv/2023-11-26_17-09-40_geolife_2000.csv')\n",
    "df = pd.concat([df, df_gl])\n",
    "\n",
    "# Append case for GeoLife 20'000 batches\n",
    "df_gl_20k = pd.read_csv(config.RESULT_DIR + 'lstm_conv/2023-11-26_17-40-45_geolife_20000.csv')\n",
    "df = pd.concat([df, df_gl_20k])\n",
    "\n",
    "# Append GeoLife Spatial-Only 2'000 batches\n",
    "df_gl_spatial = pd.read_csv(config.RESULT_DIR + 'lstm_conv/2023-11-26_21-09-22_geolife_spatial_2000.csv')\n",
    "df_gl_spatial['dataset'] = 'GeoLife Spatial'\n",
    "df = pd.concat([df, df_gl_spatial])\n",
    "\n",
    "# Append GeoLife Spatial-Only 20'000 batches\n",
    "df_gl_spatial_20k = pd.read_csv(config.RESULT_DIR + 'lstm_conv/2023-11-26_21-33-11_geolife_spatial_20000.csv')\n",
    "df_gl_spatial_20k['dataset'] = 'GeoLife Spatial'\n",
    "df = pd.concat([df, df_gl_spatial_20k])\n",
    "\n",
    "# Rename value 'fs' to 'Foursquare NYC' and geolife by GeoLife\n",
    "df['dataset'] = df['dataset'].replace('geolife', 'GeoLife')\n",
    "df['dataset'] = df['dataset'].replace('fs', 'Foursquare NYC')\n",
    "\n",
    "# res = df.groupby(['dataset', 'epochs', 'num_batches']).mean()\n",
    "res = df.groupby(['dataset', 'epochs', 'num_batches']).mean().reset_index()\n",
    "\n",
    "# Print as table\n",
    "columns = {\n",
    "    'dataset': 'Dataset',\n",
    "    'epochs': 'Epochs',\n",
    "    'num_batches': 'Batches',\n",
    "    'haversine_mean [m]': 'Haversine Mean [m]',\n",
    "    'euclidean_mean': 'Euclidean Mean',\n",
    "    'hour_rel': 'Hour [%]',\n",
    "    'day_rel': 'Day [%]',\n",
    "    'category_rel': 'Category [%]',\n",
    "}\n",
    "res.rename(columns=columns, inplace=True)\n",
    "# Drop all other columns\n",
    "res.drop(columns=[col for col in res.columns if col not in columns.values()], inplace=True)\n",
    "# Change relative columns to percent\n",
    "for col in ['Hour [%]', 'Day [%]', 'Category [%]']:\n",
    "    res[col] = res[col] * 100.0\n",
    "    # Convert to float\n",
    "    res[col] = res[col].astype(float)\n",
    "\n",
    "# Print renamed columns as Markdown table. Round all floating point values to 2 decimal places and use thousands separator and Replace all nan values by N/A\n",
    "print(res.to_markdown(index=False, floatfmt='.2f', numalign='right').replace('nan', 'N/A'))\n",
    "\n",
    "# Print to late, bold the first row\n",
    "# print(res.to_latex(index=False, float_format='%.2f', bold_rows=True, na_rep='N/A'))"
   ],
   "metadata": {
    "collapsed": false,
    "ExecuteTime": {
     "end_time": "2024-02-05T01:21:17.787752Z",
     "start_time": "2024-02-05T01:21:17.689929Z"
    }
   },
   "id": "ab48ebe5cd8007f8"
  },
  {
   "cell_type": "markdown",
   "source": [
    "| Dataset         |   Epochs |   Batches |   Haversine Mean [m] |   Euclidean Mean |   Hour [%] |   Day [%] |   Category [%] |\n",
    "|:----------------|---------:|----------:|---------------------:|-----------------:|-----------:|----------:|---------------:|\n",
    "| Foursquare NYC  |      250 |      2000 |               837.74 |             1.50 |       7.78 |      0.01 |           0.79 |\n",
    "| Foursquare NYC  |     2500 |     20000 |               182.99 |             0.35 |       0.00 |      0.00 |           0.01 |\n",
    "| GeoLife         |       11 |      2000 |               492.06 |             8.52 |       3.24 |      0.01 |            N/A |\n",
    "| GeoLife         |      110 |     20000 |               132.58 |             2.51 |       0.01 |      0.00 |            N/A |\n",
    "| GeoLife Spatial |       11 |      2000 |               230.02 |             4.12 |        N/A |       N/A |            N/A |\n",
    "| GeoLife Spatial |      110 |     20000 |                92.28 |             1.57 |        N/A |       N/A |            N/A |"
   ],
   "metadata": {
    "collapsed": false
   },
   "id": "66f3acf5167e6ed9"
  },
  {
   "cell_type": "markdown",
   "source": [
    "## Evaluation II: Is LSTM-TrajGAN a GAN?\n",
    "\n",
    "During our evaluation, we noticed that the discriminator loss appeared to only have a small effect on the training.\n",
    "The original paper evaluated different weights for the loss function, no evaluation was performed without the discriminator loss (and hence without the discriminator altogether).\n",
    "Therefore, we would like to investigate the effect of the discriminator loss on the training.\n",
    "\n",
    "The generator's loss is computed as:\n",
    "\n",
    "    bce_loss * self.p_bce + masked_latlon_mse * self.p_latlon + ce_category_mean * self.p_cat + ce_dow_mean * self.p_dow + ce_hour_mean * self.p_hour\n",
    "    \n",
    "Only the first term (`bce_loss`) uses the discriminator's output.\n",
    "Therefore, we simply set the factor `self.p_bce` to zero, for simplicity, instead of removing the discriminator altogether.\n",
    "This is the reason why the discriminator loss will be shown in the following.    \n",
    "\n",
    "### Load Data"
   ],
   "metadata": {
    "collapsed": false
   },
   "id": "6028528e9c8539f7"
  },
  {
   "cell_type": "code",
   "execution_count": 30,
   "outputs": [
    {
     "name": "stdout",
     "output_type": "stream",
     "text": [
      "[2024-02-05 11:24:56,395][\u001B[1;34mINFO\u001B[0m   ] \u001B[1;34mReading trajectories from '/home/erik/project2/data/fs_nyc/train_latlon.csv'.\u001B[0m (\u001B[1mfs_nyc.py\u001B[0m:85) \n",
      "[2024-02-05 11:24:57,779][\u001B[1;34mINFO\u001B[0m   ] \u001B[1;34mReading trajectories from '/home/erik/project2/data/fs_nyc/test_latlon.csv'.\u001B[0m (\u001B[1mfs_nyc.py\u001B[0m:85) \n",
      "Training Samples:\t 2052\n",
      "Testing Samples:\t 1027\n",
      "Reference Point:\t [-73.97770598  40.76959209]\n",
      "Scaling Factor:\t\t [0.29193802 0.21873963]\n"
     ]
    }
   ],
   "source": [
    "from stg.datasets.fs_nyc import FSNYCDataset, SPATIAL_COLUMNS,PATH_ALL\n",
    "\n",
    "# Compute reference point and scaling factor basd on all data\n",
    "# Note that this is a privacy leakage in some sense, however, the original implementation does it this way, and we intend to stay as close as possible to the original implementation.\n",
    "# In theory, it would be preferable to compute the reference point and scaling factor based on the insensitive data only. \n",
    "_all = pd.read_csv(PATH_ALL)\n",
    "ref = helpers.get_ref_point(_all[SPATIAL_COLUMNS])\n",
    "sf = helpers.get_scaling_factor(_all[SPATIAL_COLUMNS], ref)\n",
    "\n",
    "# Load Training Dataset\n",
    "train_dataset = FSNYCDataset(\n",
    "    mode=DatasetModes.TRAIN,\n",
    "    latlon_only=False,\n",
    "    normalize=True,\n",
    "    return_labels=False,\n",
    "    reference_point=ref,\n",
    "    scale_factor=sf,\n",
    ")\n",
    "\n",
    "# Load Test Dataset\n",
    "test_dataset = FSNYCDataset(\n",
    "    mode=DatasetModes.TEST,\n",
    "    latlon_only=False,\n",
    "    normalize=True,\n",
    "    return_labels=False,\n",
    "    keep_original=True,\n",
    "    reference_point=ref,\n",
    "    scale_factor=sf,\n",
    ")\n",
    "\n",
    "print(\"Training Samples:\\t\", len(train_dataset))\n",
    "print(\"Testing Samples:\\t\", len(test_dataset))\n",
    "print(\"Reference Point:\\t\", ref)\n",
    "print(\"Scaling Factor:\\t\\t\", sf)\n",
    "\n",
    "\n",
    "\n",
    "# Expected Output:\n",
    "# Reference Point:\t [-73.977705979516, 40.76959209333479]\n",
    "# Scaling Factor:    [0.29193802048399675, 0.21873962593050322]"
   ],
   "metadata": {
    "collapsed": false,
    "ExecuteTime": {
     "end_time": "2024-02-05T00:24:58.513366Z",
     "start_time": "2024-02-05T00:24:56.321987Z"
    }
   },
   "id": "f2a8e10138f1ffaf"
  },
  {
   "cell_type": "markdown",
   "source": [
    "### Create Models"
   ],
   "metadata": {
    "collapsed": false
   },
   "id": "62a34986bc6ddf95"
  },
  {
   "cell_type": "code",
   "execution_count": 31,
   "outputs": [],
   "source": [
    "# Create Model\n",
    "from stg.models.lstm_trajgan import LSTM_TrajGAN as LSTM_TrajGAN_PyTorch\n",
    "from stg.models.traj_loss import TrajLoss\n",
    "\n",
    "EPOCHS = 250  # We use the same number of epochs as in the original paper\n",
    "\n",
    "# Create Baseline Model\n",
    "gan_baseline = LSTM_TrajGAN_PyTorch(\n",
    "    reference_point=ref,\n",
    "    scale_factor=sf,\n",
    "    gpu=0 if USE_TF else GPU, # Have to use 0 in case of TF usage because the device is set up via environment variable for TF,\n",
    "    learning_rate=lr,\n",
    "    beta=beta,\n",
    "    model_name='LSTM_TrajGAN_PT',\n",
    ")\n",
    "\n",
    "# Create Model without Discriminator\n",
    "gan_without_dis = LSTM_TrajGAN_PyTorch(\n",
    "    reference_point=ref,\n",
    "    scale_factor=sf,\n",
    "    gpu=0 if USE_TF else GPU, # Have to use 0 in case of TF usage because the device is set up via environment variable for TF,\n",
    "    learning_rate=lr,\n",
    "    beta=beta,\n",
    "    model_name='LSTM_TrajGAN_No_Dis',\n",
    ")\n",
    "# Overwrite discriminator loss with zero\n",
    "trajloss_without_dis = TrajLoss(p_bce=0)\n",
    "gan_without_dis.gen_loss = trajloss_without_dis\n",
    "\n",
    "# Create Model with Discriminator Loss only\n",
    "gan_pure = LSTM_TrajGAN_PyTorch(\n",
    "    reference_point=ref,\n",
    "    scale_factor=sf,\n",
    "    gpu=0 if USE_TF else GPU, # Have to use 0 in case of TF usage because the device is set up via environment variable for TF,\n",
    "    learning_rate=lr,\n",
    "    beta=beta,\n",
    "    model_name='LSTM_TrajGAN_Pure',\n",
    ")\n",
    "# Set all loss factors to zero except for the discriminator loss\n",
    "trajloss_pure = TrajLoss(p_bce=1, p_latlon=0, p_cat=0, p_dow=0, p_hour=0)\n",
    "gan_pure.gen_loss = trajloss_pure"
   ],
   "metadata": {
    "collapsed": false,
    "ExecuteTime": {
     "end_time": "2024-02-05T00:24:58.591946Z",
     "start_time": "2024-02-05T00:24:58.513635Z"
    }
   },
   "id": "7a5a0e836f4bc213"
  },
  {
   "cell_type": "markdown",
   "source": [
    "### Training of Discriminator-less Model"
   ],
   "metadata": {
    "collapsed": false
   },
   "id": "ee367fadbaace19d"
  },
  {
   "cell_type": "code",
   "execution_count": 32,
   "outputs": [
    {
     "name": "stdout",
     "output_type": "stream",
     "text": [
      "[2024-02-05 11:24:58,642][\u001B[1;34mINFO\u001B[0m   ] \u001B[1;34mLoaded parameters from /home/erik/project2/parameters/LSTM_TrajGAN_PT/0250_COM.pth\u001B[0m (\u001B[1mtrajGAN.py\u001B[0m:83) \n",
      "[2024-02-05 11:24:58,649][\u001B[1;34mINFO\u001B[0m   ] \u001B[1;34mLoaded parameters from /home/erik/project2/parameters/LSTM_TrajGAN_No_Dis/0250_COM.pth\u001B[0m (\u001B[1mtrajGAN.py\u001B[0m:83) \n",
      "[2024-02-05 11:24:58,657][\u001B[1;34mINFO\u001B[0m   ] \u001B[1;34mLoaded parameters from /home/erik/project2/parameters/LSTM_TrajGAN_Pure/0250_COM.pth\u001B[0m (\u001B[1mtrajGAN.py\u001B[0m:83) \n"
     ]
    }
   ],
   "source": [
    "# Use saved parameters instead\n",
    "TRAIN_BASELINE = False\n",
    "TRAIN_NO_GAN = False\n",
    "TRAIN_PURE_GAN = False\n",
    "\n",
    "# Create DataLoader\n",
    "train_loader = DataLoader(\n",
    "    train_dataset,\n",
    "    batch_size=batch_size,\n",
    "    shuffle=True,\n",
    "    drop_last=True,\n",
    "    pin_memory=True,\n",
    "    collate_fn=pad_feature_first\n",
    ")\n",
    "\n",
    "if TRAIN_BASELINE:\n",
    "    # Actual Training\n",
    "    start = timer()\n",
    "    gan_baseline.training_loop(\n",
    "        train_loader,\n",
    "        epochs=EPOCHS,\n",
    "        save_freq=50,\n",
    "        print_training=True,\n",
    "        notebook=True,\n",
    "    )\n",
    "    print(f\"Training took:\\t\\t{timer() - start:.2f}s\")\n",
    "else:\n",
    "    # Load pretrained model\n",
    "    gan_baseline.load_parameters(\n",
    "        epoch=EPOCHS,\n",
    "    )\n",
    "if TRAIN_NO_GAN:\n",
    "    # Actual Training\n",
    "    start = timer()\n",
    "    gan_without_dis.training_loop(\n",
    "        train_loader,\n",
    "        epochs=EPOCHS,\n",
    "        save_freq=250,\n",
    "        print_training=True,\n",
    "        notebook=True,\n",
    "    )\n",
    "    print(f\"Training took:\\t\\t{timer() - start:.2f}s\")\n",
    "else:\n",
    "    # Load pretrained model\n",
    "    gan_without_dis.load_parameters(\n",
    "        epoch=EPOCHS,\n",
    "    )\n",
    "if TRAIN_PURE_GAN:\n",
    "    # Actual Training\n",
    "    start = timer()\n",
    "    gan_pure.training_loop(\n",
    "        train_loader,\n",
    "        epochs=EPOCHS,\n",
    "        save_freq=250,\n",
    "        print_training=True,\n",
    "        notebook=True,\n",
    "    )\n",
    "    print(f\"Training took:\\t\\t{timer() - start:.2f}s\")\n",
    "else:\n",
    "    # Load pretrained model\n",
    "    gan_pure.load_parameters(\n",
    "        epoch=EPOCHS,\n",
    "    )"
   ],
   "metadata": {
    "collapsed": false,
    "ExecuteTime": {
     "end_time": "2024-02-05T00:24:58.669455Z",
     "start_time": "2024-02-05T00:24:58.596125Z"
    }
   },
   "id": "8ed29d464a1ef068"
  },
  {
   "cell_type": "markdown",
   "source": [
    "### Predict And Evaluate"
   ],
   "metadata": {
    "collapsed": false
   },
   "id": "6a96ce031447ccf"
  },
  {
   "cell_type": "code",
   "execution_count": 33,
   "outputs": [],
   "source": [
    "# Predict and Convert with Baseline\n",
    "predicted_df_baseline = gan_baseline.predict_and_convert(test_dataset, batch_size=batch_size)\n",
    "predicted_baseline = helpers.df2trajectory_dict(predicted_df_baseline, 'tid')\n",
    "\n",
    "# Predict and Convert without Discriminator\n",
    "predicted_df_without_dis = gan_without_dis.predict_and_convert(test_dataset, batch_size=batch_size)\n",
    "predicted_without_dis = helpers.df2trajectory_dict(predicted_df_without_dis, 'tid')\n",
    "\n",
    "# Predict and Convert with Discriminator Loss only\n",
    "predicted_df_pure = gan_pure.predict_and_convert(test_dataset, batch_size=batch_size)\n",
    "predicted_pure = helpers.df2trajectory_dict(predicted_df_pure, 'tid')"
   ],
   "metadata": {
    "collapsed": false,
    "ExecuteTime": {
     "end_time": "2024-02-05T00:25:00.353077Z",
     "start_time": "2024-02-05T00:24:58.669914Z"
    }
   },
   "id": "c6eaa01f003cf29b"
  },
  {
   "cell_type": "code",
   "execution_count": 34,
   "outputs": [
    {
     "name": "stdout",
     "output_type": "stream",
     "text": [
      "|\t\t\t\t\tMetric\t\t\t\t\t| Baseline\t| Without Discriminator | Pure Discriminator |\n",
      "| ----------------------------------------- | --------- | --------------------- | ------------------ |\n",
      "| Mean Haversine Distance (per location)\t| 750.1m\t| 1012.7m\t\t\t\t| 10037.2m\t\t\t |\n",
      "| Mean Euclidean Distance (per location)\t| 0.0082\t| 0.0096\t\t\t\t| 0.1022\t\t\t |\n",
      "| Number of different day\t\t\t\t\t|  0\t\t|  0\t\t\t\t\t| 19109\t\t\t\t |\n",
      "| Percent of wrong day\t\t\t\t\t\t|  0.00%\t|  0.00%\t\t\t\t| 86.26%\t\t\t |\n",
      "| Number of different category\t\t\t\t|  9\t\t|  8\t\t\t\t\t| 18364\t\t\t\t |\n",
      "| Percent of wrong category\t\t\t\t\t|  0.04%\t|  0.04%\t\t\t\t| 82.90%\t\t\t |\n",
      "| Number of different hour\t\t\t\t\t| 978\t\t| 163\t\t\t\t\t| 21990\t\t\t\t |\n",
      "| Percent of wrong hour\t\t\t\t\t\t|  4.41%\t|  0.74%\t\t\t\t| 99.26%\t\t\t |\n"
     ]
    }
   ],
   "source": [
    "# Compute statistics for both models\n",
    "order = test_dataset.tids\n",
    "df_original = pd.concat([test_dataset.originals[tid] for tid in order])\n",
    "df_baseline = pd.concat([predicted_baseline[tid] for tid in order])\n",
    "df_without_dis = pd.concat([predicted_without_dis[tid] for tid in order])\n",
    "df_pure = pd.concat([predicted_pure[tid] for tid in order])\n",
    "\n",
    "haversine_distances_baseline = haversine_vector(df_original[['lat', 'lon']], df_baseline[['lat', 'lon']], unit=Unit.METERS)\n",
    "mean_haversine_distance_baseline = np.mean(haversine_distances_baseline)\n",
    "\n",
    "haversine_distances_without_dis = haversine_vector(df_original[['lat', 'lon']], df_without_dis[['lat', 'lon']], unit=Unit.METERS)\n",
    "mean_haversine_distance_without_dis = np.mean(haversine_distances_without_dis)\n",
    "\n",
    "haversine_distances_pure = haversine_vector(df_original[['lat', 'lon']], df_pure[['lat', 'lon']], unit=Unit.METERS)\n",
    "mean_haversine_distance_pure = np.mean(haversine_distances_pure)\n",
    "\n",
    "# Compute mean euclidean distance for all trajectories\n",
    "euclidean_distances_baseline = np.linalg.norm(df_original[['lat', 'lon']].to_numpy() - df_baseline[['lat', 'lon']].to_numpy(), axis=1)\n",
    "mean_euclidean_distance_baseline = np.mean(euclidean_distances_baseline)\n",
    "\n",
    "euclidean_distances_without_dis = np.linalg.norm(df_original[['lat', 'lon']].to_numpy() - df_without_dis[['lat', 'lon']].to_numpy(), axis=1)\n",
    "mean_euclidean_distance_without_dis = np.mean(euclidean_distances_without_dis)\n",
    "\n",
    "euclidean_distances_pure = np.linalg.norm(df_original[['lat', 'lon']].to_numpy() - df_pure[['lat', 'lon']].to_numpy(), axis=1)\n",
    "mean_euclidean_distance_pure = np.mean(euclidean_distances_pure)\n",
    "\n",
    "# Compute mean number of different categorical features\n",
    "CATEGORICAL_FEATURES = ['day', 'category', 'hour']\n",
    "df_original.rename(columns={'day': 'day'}, inplace=True)\n",
    "diffs_baseline = {feature: 0 for feature in CATEGORICAL_FEATURES}\n",
    "diffs_without_dis = {feature: 0 for feature in CATEGORICAL_FEATURES}\n",
    "diffs_pure = {feature: 0 for feature in CATEGORICAL_FEATURES}\n",
    "num_samples = len(test_dataset)\n",
    "for feature in CATEGORICAL_FEATURES:\n",
    "    # Create a feature string with the appropriate number of tabs\n",
    "    feature_str = feature + ':' + '\\t' * (2 - int(len(feature) / 8)) \n",
    "    diffs_baseline[feature] = count_diff_in_list(df_original[feature], df_baseline[feature])\n",
    "    diffs_without_dis[feature] = count_diff_in_list(df_original[feature], df_without_dis[feature])\n",
    "    diffs_pure[feature] = count_diff_in_list(df_original[feature], df_pure[feature])\n",
    "    \n",
    "\n",
    "# Print results as table\n",
    "print(f\"|\\t\\t\\t\\t\\tMetric\\t\\t\\t\\t\\t| Baseline\\t| Without Discriminator | Pure Discriminator |\")\n",
    "print(f\"| ----------------------------------------- | --------- | --------------------- | ------------------ |\")\n",
    "print(f\"| Mean Haversine Distance (per location)\\t| {mean_haversine_distance_baseline:.1f}m\\t| {mean_haversine_distance_without_dis:.1f}m\\t\\t\\t\\t| {mean_haversine_distance_pure:.1f}m\\t\\t\\t |\")\n",
    "print(f\"| Mean Euclidean Distance (per location)\\t| {mean_euclidean_distance_baseline:.4f}\\t| {mean_euclidean_distance_without_dis:.4f}\\t\\t\\t\\t| {mean_euclidean_distance_pure:.4f}\\t\\t\\t |\")\n",
    "for feature in CATEGORICAL_FEATURES:\n",
    "    # Create a feature string with the appropriate number of tabs\n",
    "    feature_str = feature + '\\t' * (2 - int(len(feature) / 8)) \n",
    "    print(f\"| Number of different {feature_str}\\t\\t\\t| {diffs_baseline[feature]:2}\\t\\t| {diffs_without_dis[feature]:2}\\t\\t\\t\\t\\t| {diffs_pure[feature]:2}\\t\\t\\t\\t |\")\n",
    "    # print(f\"| Number of mean different {feature_str} | {diffs_baseline[feature] / num_samples:.4f} | {diffs_without_dis[feature] / num_samples:.4f} | {diffs_pure[feature] / num_samples:.4f} |\")\n",
    "    print(f\"| Percent of wrong {feature_str}\\t\\t\\t\\t| {diffs_baseline[feature] / len(df_original) * 100:5.2f}%\\t| {diffs_without_dis[feature] / len(df_original) * 100:5.2f}%\\t\\t\\t\\t| {diffs_pure[feature] / len(df_original) * 100:5.2f}%\\t\\t\\t |\")\n",
    "\n",
    "\n",
    "# Print table in latex format"
   ],
   "metadata": {
    "collapsed": false,
    "ExecuteTime": {
     "end_time": "2024-02-05T00:25:00.680912Z",
     "start_time": "2024-02-05T00:25:00.351561Z"
    }
   },
   "id": "89326ced225d67bc"
  },
  {
   "cell_type": "markdown",
   "source": [
    "### Results\n",
    "\n",
    "The following table was created during on example run on our machine. \n",
    "\n",
    "|\t\t\t\t\tMetric\t\t\t\t\t| Baseline\t| Without Discriminator | Pure Discriminator |\n",
    "| ----------------------------------------- | --------- | --------------------- | ------------------ |\n",
    "| Mean Haversine Distance (per location)\t| 765.4m\t| 1014.1m\t\t\t\t| 10041.4m\t\t\t |\n",
    "| Mean Euclidean Distance (per location)\t| 0.0084\t| 0.0097\t\t\t\t| 0.1022\t\t\t |\n",
    "| Number of different day\t\t\t\t\t|  0\t\t|  0\t\t\t\t\t| 19109\t\t\t\t |\n",
    "| Percent of wrong day\t\t\t\t\t\t|  0.00%\t|  0.00%\t\t\t\t| 86.26%\t\t\t |\n",
    "| Number of different category\t\t\t\t|  9\t\t|  8\t\t\t\t\t| 18364\t\t\t\t |\n",
    "| Percent of wrong category\t\t\t\t\t|  0.04%\t|  0.04%\t\t\t\t| 82.90%\t\t\t |\n",
    "| Number of different hour\t\t\t\t\t| 978\t\t| 163\t\t\t\t\t| 21990\t\t\t\t |\n",
    "| Percent of wrong hour\t\t\t\t\t\t|  4.41%\t|  0.74%\t\t\t\t| 99.26%\t\t\t |\n",
    "\n",
    "\n",
    "The results show that the baseline model performs best. \n",
    "However, the model without discriminator is only slight worse than the baseline model and even better at predicting the hours.\n",
    "The model with only the discriminator loss performs worst.\n",
    "These results indicate that the LSTM-TrajGAN model mainly works as a sequence-to-sequence model and barely uses the discriminator.\n",
    "The key takeaway here is that the input of original trajectories during generation is essential for model performance and noise alone is not sufficient.\n",
    "From a privacy perspective, this makes the provisioning of guarantees more challenging as both the training process and the input data require protection.\n",
    "\n"
   ],
   "metadata": {
    "collapsed": false
   },
   "id": "fd49bc12f10fff10"
  },
  {
   "cell_type": "markdown",
   "source": [
    "### Load n-Fold Results"
   ],
   "metadata": {
    "collapsed": false
   },
   "id": "5c1636cfb163cca7"
  },
  {
   "cell_type": "code",
   "execution_count": 7,
   "outputs": [
    {
     "name": "stdout",
     "output_type": "stream",
     "text": [
      "| Dataset         | Loss     |   Haversine Mean [m] |   Euclidean Mean |   Hour [%] |   Day [%] |   Category [%] |\n",
      "|-----------------|----------|----------------------|------------------|------------|-----------|----------------|\n",
      "| Foursquare NYC  | STD      |               762.65 |             1.35 |       9.05 |      0.02 |           0.78 |\n",
      "| Foursquare NYC  | NO BCE   |               788.88 |             1.36 |       5.56 |      0.00 |           1.42 |\n",
      "| Foursquare NYC  | BCE ONLY |             14973.26 |            26.09 |      95.71 |     86.82 |          90.90 |\n",
      "| GeoLife         | STD      |               451.00 |             7.82 |       2.49 |      0.01 |            N/A |\n",
      "| GeoLife         | NO BCE   |               440.32 |             7.54 |       2.70 |      0.01 |            N/A |\n",
      "| GeoLife         | BCE ONLY |              9090.44 |           163.93 |      94.13 |     85.80 |            N/A |\n",
      "| GeoLife Spatial | STD      |               191.21 |             3.64 |        N/A |       N/A |            N/A |\n",
      "| GeoLife Spatial | NO BCE   |               276.48 |             4.73 |        N/A |       N/A |            N/A |\n",
      "| GeoLife Spatial | BCE ONLY |              6403.59 |           126.27 |        N/A |       N/A |            N/A |\n"
     ]
    }
   ],
   "source": [
    "directory = config.RESULT_DIR + 'lstm_gan/'\n",
    "\n",
    "# FourSquare NYC\n",
    "df = pd.read_csv(directory + '2023-11-26_16-49-18_fs.csv')\n",
    "df['dataset'] = 'Foursquare NYC'\n",
    "\n",
    "# GeoLife\n",
    "df_gl = pd.read_csv(directory + '2023-11-26_17-28-06_geolife.csv')\n",
    "df_gl['dataset'] = 'GeoLife'\n",
    "\n",
    "# GeoLife Spatial\n",
    "df_gl_spatial = pd.read_csv(directory + '2023-11-26_18-43-19_geolife_spatial.csv')\n",
    "df_gl_spatial['dataset'] = 'GeoLife Spatial'\n",
    "\n",
    "# Join both datasets\n",
    "df = pd.concat([df, df_gl, df_gl_spatial])\n",
    "\n",
    "# Group by dataset and sort by Dataset ascending followed by loss descending\n",
    "res = df.groupby(['dataset', 'loss']).mean().reset_index().sort_values(by=['dataset', 'loss'], ascending=[True, False])\n",
    "\n",
    "columns = {\n",
    "    'dataset': 'Dataset',\n",
    "    'loss': 'Loss',\n",
    "    'haversine_mean [m]': 'Haversine Mean [m]',\n",
    "    'euclidean_mean': 'Euclidean Mean',\n",
    "    'hour_rel': 'Hour [%]',\n",
    "    'day_rel': 'Day [%]',\n",
    "    'category_rel': 'Category [%]',\n",
    "}\n",
    "\n",
    "res.rename(columns=columns, inplace=True)\n",
    "\n",
    "# Multiply relative columns by 100\n",
    "for col in ['Hour [%]', 'Day [%]', 'Category [%]']:\n",
    "    res[col] = res[col] * 100.0\n",
    "    res[col] = res[col].astype(float)\n",
    "\n",
    "# Drop all other columns\n",
    "res.drop(columns=[col for col in res.columns if col not in columns.values()], inplace=True)\n",
    "\n",
    "# As markdown, align  all values right\n",
    "print(res.to_markdown(index=False, floatfmt='.2f', tablefmt='github', numalign='right').replace('nan', 'N/A'))\n",
    "\n",
    "# As latex, align all values right\n",
    "# print(res.to_latex(index=False, float_format='%.2f', bold_rows=True, na_rep='N/A')) "
   ],
   "metadata": {
    "collapsed": false,
    "ExecuteTime": {
     "end_time": "2024-02-05T01:22:04.704336Z",
     "start_time": "2024-02-05T01:22:04.635521Z"
    }
   },
   "id": "2ec8915ffb446bf7"
  },
  {
   "cell_type": "markdown",
   "source": [
    "| Dataset         | Loss     |   Haversine Mean [m] |   Euclidean Mean |   Hour [%] |   Day [%] |   Category [%] |\n",
    "|-----------------|----------|----------------------|------------------|------------|-----------|----------------|\n",
    "| Foursquare NYC  | STD      |               762.65 |             1.35 |       9.05 |      0.02 |           0.78 |\n",
    "| Foursquare NYC  | NO BCE   |               788.88 |             1.36 |       5.56 |      0.00 |           1.42 |\n",
    "| Foursquare NYC  | BCE ONLY |             14973.26 |            26.09 |      95.71 |     86.82 |          90.90 |\n",
    "| GeoLife         | STD      |               451.00 |             7.82 |       2.49 |      0.01 |            N/A |\n",
    "| GeoLife         | NO BCE   |               440.32 |             7.54 |       2.70 |      0.01 |            N/A |\n",
    "| GeoLife         | BCE ONLY |              9090.44 |           163.93 |      94.13 |     85.80 |            N/A |\n",
    "| GeoLife Spatial | STD      |               191.21 |             3.64 |        N/A |       N/A |            N/A |\n",
    "| GeoLife Spatial | NO BCE   |               276.48 |             4.73 |        N/A |       N/A |            N/A |\n",
    "| GeoLife Spatial | BCE ONLY |              6403.59 |           126.27 |        N/A |       N/A |            N/A |"
   ],
   "metadata": {
    "collapsed": false
   },
   "id": "3849106454d106fe"
  },
  {
   "cell_type": "markdown",
   "source": [
    "## Evaluation III: RAoPT vs. LSTM-TrajGAN\n",
    "\n",
    "LSTM-TrajGAN is evaluated again trajectory user linking (TUL) in the paper [1].\n",
    "In the following, we would like to measure the performance of the more recent RAoPT [2] attach against the LSTM-TrajGAN model.\n",
    "\n",
    "[2]  Erik Buchholz, Alsharif Abuadbba, Shuo Wang, Surya Nepal, and Salil S. Kanhere. 2022. Reconstruction Attack on Differential Private Trajectory Protection Mechanisms. In Annual Computer Security Applications Conference (ACSAC ’22), December 5–9, 2022, Austin, TX, USA. ACM, New York, NY, USA, 14 pages. [https://doi.org/10.1145/3564625.3564628](https://doi.org/10.1145/3564625.3564628)\n",
    "\n",
    "### 1. Create a train and test set for RAoPT\n",
    "\n",
    "The RAoPT model requires a train and test set, as it is based on deep learning itself.\n",
    "As the Foursquare dataset is already quite small, we make use of a simplification here.\n",
    "We first train LSTM-TrajGAN on the training portion of the dataset. \n",
    "Then, we use the trained model to generate two set:\n",
    "1. A training set for RAoPT: We generate trajectories based on the same dataset LSTM-TrajGAN was trained on\n",
    "2. A test set for RAoPT: We generate trajectories based on the test set of the original dataset (i.e., trajectories that LSTM-TrajGAN has not seen during training)\n",
    "\n"
   ],
   "metadata": {
    "collapsed": false
   },
   "id": "85e8d977cde94d00"
  },
  {
   "cell_type": "code",
   "execution_count": 36,
   "outputs": [
    {
     "name": "stdout",
     "output_type": "stream",
     "text": [
      "[2024-02-05 11:25:00,785][\u001B[1;34mINFO\u001B[0m   ] \u001B[1;34mReading trajectories from '/home/erik/project2/data/fs_nyc/train_latlon.csv'.\u001B[0m (\u001B[1mfs_nyc.py\u001B[0m:85) \n",
      "[2024-02-05 11:25:02,219][\u001B[1;34mINFO\u001B[0m   ] \u001B[1;34mReading trajectories from '/home/erik/project2/data/fs_nyc/test_latlon.csv'.\u001B[0m (\u001B[1mfs_nyc.py\u001B[0m:85) \n",
      "[2024-02-05 11:25:02,958][\u001B[1;34mINFO\u001B[0m   ] \u001B[1;34mLoaded parameters from /home/erik/project2/parameters/LSTM_TrajGAN_PT/0250_COM.pth\u001B[0m (\u001B[1mtrajGAN.py\u001B[0m:83) \n"
     ]
    }
   ],
   "source": [
    "EPOCHS = 250  # We use the same number of epochs as in the original paper [1]\n",
    "\n",
    "# Load datasets\n",
    "train_dataset = FSNYCDataset(\n",
    "    mode=DatasetModes.TRAIN,\n",
    "    latlon_only=False,\n",
    "    normalize=True,\n",
    "    return_labels=False,\n",
    "    reference_point=ref,\n",
    "    scale_factor=sf,\n",
    "    keep_original=True,\n",
    ")\n",
    "test_dataset = FSNYCDataset(\n",
    "    mode=DatasetModes.TEST,\n",
    "    latlon_only=False,\n",
    "    normalize=True,\n",
    "    return_labels=False,\n",
    "    keep_original=True,\n",
    "    reference_point=ref,\n",
    "    scale_factor=sf,\n",
    ")\n",
    "\n",
    "# Create LSTM-TrajGAN model\n",
    "gan = LSTM_TrajGAN_PyTorch(\n",
    "    reference_point=ref,\n",
    "    scale_factor=sf,\n",
    "    gpu=0 if USE_TF else GPU, # Have to use 0 in case of TF usage because the device is set up via environment variable for TF,\n",
    "    learning_rate=lr,\n",
    "    beta=beta,\n",
    "    model_name='LSTM_TrajGAN_PT',\n",
    ")\n",
    "\n",
    "# Load pretrained model\n",
    "gan.load_parameters(\n",
    "    epoch=EPOCHS,\n",
    ")\n",
    "\n",
    "# Predict and Convert with training set\n",
    "predicted_df_train = gan.predict_and_convert(train_dataset, batch_size=batch_size)\n",
    "predicted_train = helpers.df2trajectory_dict(predicted_df_train, 'tid')\n",
    "\n",
    "# Predict and Convert test set\n",
    "predicted_df_test = gan.predict_and_convert(test_dataset, batch_size=batch_size)\n",
    "predicted_test = helpers.df2trajectory_dict(predicted_df_test, 'tid')"
   ],
   "metadata": {
    "collapsed": false,
    "ExecuteTime": {
     "end_time": "2024-02-05T00:25:04.578647Z",
     "start_time": "2024-02-05T00:25:00.753966Z"
    }
   },
   "id": "2628f1ba5a8c2abb"
  },
  {
   "cell_type": "code",
   "execution_count": 37,
   "outputs": [],
   "source": [
    "# Save the original & generated datasets for RAoPT\n",
    "output_dir = config.BASE_DIR + 'data/raopt/'\n",
    "os.makedirs(output_dir, exist_ok=True)\n",
    "# Column names required for RAoPT\n",
    "column_renaming = {\n",
    "    'lat': 'latitude',\n",
    "    'lon': 'longitude',\n",
    "    'label': 'uid',\n",
    "    'tid': 'trajectory_id',\n",
    "}\n",
    "# Store originals\n",
    "pd.concat(train_dataset.originals.values()).rename(columns=column_renaming).to_csv(output_dir + 'train_orig.csv', index=False)\n",
    "pd.concat(test_dataset.originals.values()).rename(columns=column_renaming).to_csv(output_dir + 'test_orig.csv', index=False)\n",
    "# Store predicted\n",
    "predicted_df_train.rename(columns=column_renaming).to_csv(output_dir + 'train_syn.csv', index=False)\n",
    "predicted_df_test.rename(columns=column_renaming).to_csv(output_dir + 'test_syn.csv', index=False)"
   ],
   "metadata": {
    "collapsed": false,
    "ExecuteTime": {
     "end_time": "2024-02-05T00:25:05.363023Z",
     "start_time": "2024-02-05T00:25:04.578856Z"
    }
   },
   "id": "d339fbdcdc928a0a"
  },
  {
   "cell_type": "markdown",
   "source": [
    "### Run RAoPT training via command line\n",
    "\n",
    "1. Changes to RAoPT: In the file `train.py` you need to change the following lines:\n",
    "    - Line 3: `features = ['latlon', 'hour', 'dow']` --> `features = ['latlon']`\n",
    "    - Lines 84 & 85: `ignore_time=False` --> `ignore_time=True` \n",
    "    These changes will ensure that RAoPT only uses the spatial features and ignores the temporal features for simplicity.\n",
    "\n",
    "2. Training \n",
    "\n",
    "        cd RAoPT\n",
    "        python -m raopt.ml.train ../data/raopt/train_orig.csv ../data/raopt/train_syn.csv model_parameters/parameters.hdf5 144\n",
    "        \n",
    "3. Testing\n",
    "\n",
    "        python -m raopt.ml.predict  -r 40.76 -73.97  -s 0.23 0.30 -e ../data/raopt/test_orig.csv ../data/raopt/test_syn.csv output/lstm_trajgan250.csv model_parameters/parameters.hdf5 144\n",
    "\n",
    "\n",
    "#### Results\n",
    "\n",
    "Here are the results we obtained during our evaluation:\n",
    "\n",
    "Average Euclidean Distance protected\t\t<-->\toriginal:\t676.7193436033974\n",
    "Average Euclidean Distance reconstructed\t<-->\toriginal:\t447.9047631741993\n",
    "Improvement by 32.1%.\n",
    "Average Hausdorff Distance protected\t\t<-->\toriginal:\t1292.9240904227368\n",
    "Average Hausdorff Distance reconstructed\t<-->\toriginal:\t963.6540932216253\n",
    "Improvement by 24.1%.\n",
    "Average Jaccard Distance protected\t\t    <-->\toriginal:\t0.6034057338022244\n",
    "Average Jaccard Distance reconstructed\t\t<-->\toriginal:\t0.7116564335126819\n",
    "Improvement by 17.9%.\n",
    "\n",
    "While the attack can reduce the distances significantly less than for the traditional protection schemes used in the RAoPT paper [2], it shows that the attack can still remove of the obfuscation infused by LSTM-TrajGAN.\n",
    "Based on the previous results, we assume that this could be based on the shift we observed in the trajectories."
   ],
   "metadata": {
    "collapsed": false
   },
   "id": "94bd49da0660af65"
  },
  {
   "cell_type": "markdown",
   "source": [
    "### Alternative: Run RAoPT within the notebook"
   ],
   "metadata": {
    "collapsed": false
   },
   "id": "39cc84f62467185f"
  },
  {
   "cell_type": "code",
   "execution_count": 38,
   "outputs": [
    {
     "name": "stdout",
     "output_type": "stream",
     "text": [
      "Using GPU 0!\n"
     ]
    }
   ],
   "source": [
    "# Tensorflow Header\n",
    "os.environ[\"CUDA_VISIBLE_DEVICES\"] = f\"{GPU}\"\n",
    "# noinspection PyUnresolvedReferences\n",
    "import tensorflow as tf\n",
    "\n",
    "# import RAoPT encoder and AttackModel\n",
    "# Requires adding the RAoPT directory to the PYTHONPATH\n",
    "import sys\n",
    "sys.path.append(config.BASE_DIR + 'RAoPT')\n",
    "# noinspection PyUnresolvedReferences\n",
    "from raopt.ml.model import AttackModel as RAoPT\n",
    "# noinspection PyUnresolvedReferences\n",
    "from raopt.ml import encoder\n",
    "# noinspection PyUnresolvedReferences\n",
    "from raopt.utils import helpers as raopt_helpers"
   ],
   "metadata": {
    "collapsed": false,
    "ExecuteTime": {
     "end_time": "2024-02-05T00:25:05.440507Z",
     "start_time": "2024-02-05T00:25:05.365113Z"
    }
   },
   "id": "5fd75d3a29c51f3d"
  },
  {
   "cell_type": "code",
   "execution_count": 39,
   "outputs": [
    {
     "name": "stdout",
     "output_type": "stream",
     "text": [
      "[2024-02-05 11:25:05,473][\u001B[1;34mINFO\u001B[0m   ] \u001B[1;34mReading Trajectories from /home/erik/project2/data/raopt/train_orig.csv.\u001B[0m (\u001B[1mhelpers.py\u001B[0m:279) \n",
      "[2024-02-05 11:25:05,607][\u001B[1;34mINFO\u001B[0m   ] \u001B[1;34mReading Trajectories from /home/erik/project2/data/raopt/train_syn.csv.\u001B[0m (\u001B[1mhelpers.py\u001B[0m:279) \n",
      "[2024-02-05 11:25:06,033][\u001B[1;34mINFO\u001B[0m   ] \u001B[1;34mEncoding trajectories...\u001B[0m (\u001B[1mencoder.py\u001B[0m:148) \n",
      "[2024-02-05 11:25:08,039][\u001B[1;34mINFO\u001B[0m   ] \u001B[1;34mEncoded trajectories in 2s.\u001B[0m (\u001B[1mencoder.py\u001B[0m:160) \n",
      "[2024-02-05 11:25:08,044][\u001B[1;34mINFO\u001B[0m   ] \u001B[1;34mEncoding trajectories...\u001B[0m (\u001B[1mencoder.py\u001B[0m:148) \n",
      "[2024-02-05 11:25:10,099][\u001B[1;34mINFO\u001B[0m   ] \u001B[1;34mEncoded trajectories in 2s.\u001B[0m (\u001B[1mencoder.py\u001B[0m:160) \n"
     ]
    }
   ],
   "source": [
    "# Load datasets in correct format\n",
    "originals = raopt_helpers.read_trajectories_from_csv(output_dir + 'train_orig.csv')\n",
    "protected = raopt_helpers.read_trajectories_from_csv(output_dir + 'train_syn.csv')\n",
    "\n",
    "# Encode\n",
    "encoded_originals = encoder.encode_trajectory_dict(originals, ignore_time=False)\n",
    "encoded_protected = encoder.encode_trajectory_dict(protected, ignore_time=False)\n",
    "keys = list(encoded_protected.keys())\n",
    "trainX = [encoded_protected[i] for i in keys]\n",
    "trainY = [encoded_originals[i] for i in keys]"
   ],
   "metadata": {
    "collapsed": false,
    "ExecuteTime": {
     "end_time": "2024-02-05T00:25:10.152252Z",
     "start_time": "2024-02-05T00:25:05.444574Z"
    }
   },
   "id": "a5009aeb08f1a91e"
  },
  {
   "cell_type": "code",
   "execution_count": 40,
   "outputs": [],
   "source": [
    "# Create and train model\n",
    "raopt = RAoPT(\n",
    "        max_length=max_len,\n",
    "        features=['latlon'],\n",
    "        scale_factor=sf,\n",
    "        reference_point=ref,\n",
    "        parameter_file=config.BASE_DIR + 'parameters/RAoPT/parameters.hdf5',\n",
    ")"
   ],
   "metadata": {
    "collapsed": false,
    "ExecuteTime": {
     "end_time": "2024-02-05T00:25:18.372785Z",
     "start_time": "2024-02-05T00:25:10.151020Z"
    }
   },
   "id": "77a80018efd23cef"
  },
  {
   "cell_type": "code",
   "execution_count": 41,
   "outputs": [],
   "source": [
    "# Train model  -> Too expensive for notebook\n",
    "# h = raopt.train(\n",
    "#     trainX,\n",
    "#     trainY,\n",
    "#     use_val_loss=True\n",
    "# )\n",
    "# \n",
    "# log.info(f\"Training Completed After {len(h.history['loss'])} Epochs.\")"
   ],
   "metadata": {
    "collapsed": false,
    "ExecuteTime": {
     "end_time": "2024-02-05T00:25:18.427307Z",
     "start_time": "2024-02-05T00:25:18.378606Z"
    }
   },
   "id": "4d8a5254cdf37c63"
  },
  {
   "cell_type": "markdown",
   "source": [
    "### Eval Results"
   ],
   "metadata": {
    "collapsed": false
   },
   "id": "7f15d22deaf4b92f"
  },
  {
   "cell_type": "code",
   "execution_count": 8,
   "outputs": [],
   "source": [
    "# Print Results from file\n",
    "RESULT_DIR = config.RESULT_DIR + 'raopt_vs_lstm/'\n",
    "\n",
    "# Add RAoPT to path\n",
    "sys.path.append(config.BASE_DIR + 'RAoPT')\n",
    "# noinspection PyUnresolvedReferences\n",
    "from raopt.eval.main import comp_results, print_results_detailed\n",
    "\n",
    "# Files\n",
    "file_geolife_spatial = RESULT_DIR + '2023-11-26_21-09-26_geolife_512.csv'\n",
    "file_geolife = RESULT_DIR + '2023-11-26_17-01-56_geolife_512.csv'\n",
    "file_fs_128 = RESULT_DIR + '2023-11-26_15-45-46_fs_128.csv'\n",
    "\n",
    "# dict Name: filename\n",
    "files = {\n",
    "    'GeoLife Spatial': file_geolife_spatial,\n",
    "    'GeoLife': file_geolife,\n",
    "    'Foursquare NYC (BS = 128)': file_fs_128,\n",
    "}"
   ],
   "metadata": {
    "collapsed": false,
    "ExecuteTime": {
     "end_time": "2024-02-05T01:22:45.032841Z",
     "start_time": "2024-02-05T01:22:44.777655Z"
    }
   },
   "id": "1a5f671545797080"
  },
  {
   "cell_type": "code",
   "execution_count": 9,
   "outputs": [
    {
     "name": "stdout",
     "output_type": "stream",
     "text": [
      "######################################### GeoLife Spatial ##########################################\n",
      "Average Euclidean Distance protected\t\t<-->\toriginal:\t306.95150463447624\n",
      "Average Euclidean Distance reconstructed\t<-->\toriginal:\t136.51272118528564\n",
      "Improvement by 33.4%.\n",
      "Average Hausdorff Distance protected\t\t<-->\toriginal:\t496.88624226759356\n",
      "Average Hausdorff Distance reconstructed\t<-->\toriginal:\t197.69120371094255\n",
      "Improvement by 50.2%.\n",
      "Average Jaccard Distance protected\t\t<-->\toriginal:\t0.16452645335670654\n",
      "Average Jaccard Distance reconstructed\t\t<-->\toriginal:\t0.26408941255383434\n",
      "Improvement by 60.5%.\n",
      "####################################################################################################\n",
      "############################################# GeoLife ##############################################\n",
      "Average Euclidean Distance protected\t\t<-->\toriginal:\t303.74215656239386\n",
      "Average Euclidean Distance reconstructed\t<-->\toriginal:\t142.52718880364188\n",
      "Improvement by 34.9%.\n",
      "Average Hausdorff Distance protected\t\t<-->\toriginal:\t461.952164188379\n",
      "Average Hausdorff Distance reconstructed\t<-->\toriginal:\t205.12946860983232\n",
      "Improvement by 45.6%.\n",
      "Average Jaccard Distance protected\t\t<-->\toriginal:\t0.15175690689650873\n",
      "Average Jaccard Distance reconstructed\t\t<-->\toriginal:\t0.25669818226972735\n",
      "Improvement by 69.2%.\n",
      "####################################################################################################\n",
      "#################################### Foursquare NYC (BS = 128) #####################################\n",
      "Average Euclidean Distance protected\t\t<-->\toriginal:\t695.6400583715125\n",
      "Average Euclidean Distance reconstructed\t<-->\toriginal:\t472.0716459251665\n",
      "Improvement by 24.9%.\n",
      "Average Hausdorff Distance protected\t\t<-->\toriginal:\t1266.3356136854713\n",
      "Average Hausdorff Distance reconstructed\t<-->\toriginal:\t950.2046824938752\n",
      "Improvement by 19.8%.\n",
      "Average Jaccard Distance protected\t\t<-->\toriginal:\t0.6128705713968966\n",
      "Average Jaccard Distance reconstructed\t\t<-->\toriginal:\t0.7005075340076293\n",
      "Improvement by 14.3%.\n",
      "####################################################################################################\n"
     ]
    }
   ],
   "source": [
    "for file in files:\n",
    "    num_hash = 98 - len(file)\n",
    "    print('#' * (num_hash // 2), file, f\"{'#' * (num_hash // 2)}{'#' * (num_hash % 2)}\")\n",
    "    print_results_detailed(pd.read_csv(files[file]))\n",
    "    print(\"#\"*100)\n",
    "    "
   ],
   "metadata": {
    "collapsed": false,
    "ExecuteTime": {
     "end_time": "2024-02-05T01:22:45.914231Z",
     "start_time": "2024-02-05T01:22:45.707031Z"
    }
   },
   "id": "54191d189b662191"
  },
  {
   "cell_type": "code",
   "execution_count": 10,
   "outputs": [
    {
     "name": "stdout",
     "output_type": "stream",
     "text": [
      "| Dataset                   |   Euclidean Improvement [%] |   Hausdorff Improvement [%] |   Jaccard Improvement [%] |\n",
      "|:--------------------------|----------------------------:|----------------------------:|--------------------------:|\n",
      "| GeoLife Spatial           |                       33.40 |                       50.15 |                     60.51 |\n",
      "| GeoLife                   |                       34.95 |                       45.57 |                     69.15 |\n",
      "| Foursquare NYC (BS = 128) |                       24.94 |                       19.81 |                     14.30 |\n"
     ]
    }
   ],
   "source": [
    "# As table\n",
    "results = {\n",
    "    'Dataset': [],\n",
    "    'Euclidean Improvement [%]': [],\n",
    "    'Hausdorff Improvement [%]': [], \n",
    "    'Jaccard Improvement [%]': []\n",
    "}\n",
    "for dataset in files:\n",
    "    df = pd.read_csv(files[dataset])\n",
    "    e_imp, h_imp, jaccard_before, jaccard_after = comp_results(df)\n",
    "    results['Dataset'].append(dataset)\n",
    "    results['Euclidean Improvement [%]'].append(e_imp)\n",
    "    results['Hausdorff Improvement [%]'].append(h_imp)\n",
    "    j_imp = 100 * (jaccard_after - jaccard_before) / abs(jaccard_before)\n",
    "    results['Jaccard Improvement [%]'].append(j_imp)\n",
    "    \n",
    "results = pd.DataFrame(results)\n",
    "\n",
    "# Print as Markdown table, round 2 to 2 digits and append % to all values\n",
    "print(results.to_markdown(index=False, floatfmt='.2f'))"
   ],
   "metadata": {
    "collapsed": false,
    "ExecuteTime": {
     "end_time": "2024-02-05T01:22:47.024170Z",
     "start_time": "2024-02-05T01:22:46.825344Z"
    }
   },
   "id": "783e9dd2a1d95a08"
  },
  {
   "cell_type": "markdown",
   "source": [
    "| Dataset                   |   Euclidean Improvement [%] |   Hausdorff Improvement [%] |   Jaccard Improvement [%] |\n",
    "|:--------------------------|----------------------------:|----------------------------:|--------------------------:|\n",
    "| GeoLife Spatial           |                       33.40 |                       50.15 |                     60.51 |\n",
    "| GeoLife                   |                       34.95 |                       45.57 |                     69.15 |\n",
    "| Foursquare NYC (BS = 128) |                       24.94 |                       19.81 |                     14.30 |\n"
   ],
   "metadata": {
    "collapsed": false
   },
   "id": "c17fd02a79760d5b"
  },
  {
   "cell_type": "code",
   "execution_count": 11,
   "outputs": [
    {
     "name": "stdout",
     "output_type": "stream",
     "text": [
      "\\begin{tabular}{lccc}\n",
      "\\toprule\n",
      "        Dataset &  Euclidean Improvement [\\%] &  Hausdorff Improvement [\\%] &  Jaccard Improvement [\\%] \\\\\n",
      "\\midrule\n",
      "GeoLife Spatial &                      33.40 &                      50.15 &                    60.51 \\\\\n",
      "        GeoLife &                      34.95 &                      45.57 &                    69.15 \\\\\n",
      " Foursquare NYC &                      24.94 &                      19.81 &                    14.30 \\\\\n",
      "\\bottomrule\n",
      "\\end{tabular}\n"
     ]
    },
    {
     "name": "stderr",
     "output_type": "stream",
     "text": [
      "/tmp/ipykernel_119787/3991108702.py:1: SettingWithCopyWarning: \n",
      "A value is trying to be set on a copy of a slice from a DataFrame\n",
      "\n",
      "See the caveats in the documentation: https://pandas.pydata.org/pandas-docs/stable/user_guide/indexing.html#returning-a-view-versus-a-copy\n",
      "  results['Dataset'][2] = 'Foursquare NYC'\n",
      "/tmp/ipykernel_119787/3991108702.py:4: FutureWarning: In future versions `DataFrame.to_latex` is expected to utilise the base implementation of `Styler.to_latex` for formatting and rendering. The arguments signature may therefore change. It is recommended instead to use `DataFrame.style.to_latex` which also contains additional functionality.\n",
      "  print(results.to_latex(index=False, float_format=\"%.2f\", column_format='lccc'))\n"
     ]
    }
   ],
   "source": [
    "results['Dataset'][2] = 'Foursquare NYC'\n",
    "\n",
    "# Print as LaTeX table\n",
    "print(results.to_latex(index=False, float_format=\"%.2f\", column_format='lccc'))"
   ],
   "metadata": {
    "collapsed": false,
    "ExecuteTime": {
     "end_time": "2024-02-05T01:22:48.826234Z",
     "start_time": "2024-02-05T01:22:48.761226Z"
    }
   },
   "id": "5603ffbc91e00f25"
  },
  {
   "cell_type": "code",
   "execution_count": 45,
   "outputs": [],
   "source": [],
   "metadata": {
    "collapsed": false,
    "ExecuteTime": {
     "end_time": "2024-02-05T00:25:18.941996Z",
     "start_time": "2024-02-05T00:25:18.941624Z"
    }
   },
   "id": "5fb833f7d1028dd6"
  }
 ],
 "metadata": {
  "kernelspec": {
   "name": "stg",
   "language": "python",
   "display_name": "stg"
  },
  "language_info": {
   "codemirror_mode": {
    "name": "ipython",
    "version": 2
   },
   "file_extension": ".py",
   "mimetype": "text/x-python",
   "name": "python",
   "nbconvert_exporter": "python",
   "pygments_lexer": "ipython2",
   "version": "2.7.6"
  }
 },
 "nbformat": 4,
 "nbformat_minor": 5
}
